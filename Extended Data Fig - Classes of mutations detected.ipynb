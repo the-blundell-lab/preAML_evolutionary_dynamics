{
 "cells": [
  {
   "cell_type": "markdown",
   "id": "2418be7b",
   "metadata": {
    "toc": true
   },
   "source": [
    "<h1>Table of Contents<span class=\"tocSkip\"></span></h1>\n",
    "<div class=\"toc\"><ul class=\"toc-item\"><li><span><a href=\"#Create-dictionary-of-sample-details\" data-toc-modified-id=\"Create-dictionary-of-sample-details-1\"><span class=\"toc-item-num\">1&nbsp;&nbsp;</span>Create dictionary of sample details</a></span></li><li><span><a href=\"#Import-the-sample-variant-details\" data-toc-modified-id=\"Import-the-sample-variant-details-2\"><span class=\"toc-item-num\">2&nbsp;&nbsp;</span>Import the sample variant details</a></span></li><li><span><a href=\"#Import-which-samples-have-missing-drivers\" data-toc-modified-id=\"Import-which-samples-have-missing-drivers-3\"><span class=\"toc-item-num\">3&nbsp;&nbsp;</span>Import which samples have missing drivers</a></span></li><li><span><a href=\"#Which-samples-have-which-evolution-pattern\" data-toc-modified-id=\"Which-samples-have-which-evolution-pattern-4\"><span class=\"toc-item-num\">4&nbsp;&nbsp;</span>Which samples have which evolution pattern</a></span></li><li><span><a href=\"#Count-the-number-of-each-gene-for-each-sample\" data-toc-modified-id=\"Count-the-number-of-each-gene-for-each-sample-5\"><span class=\"toc-item-num\">5&nbsp;&nbsp;</span>Count the number of each gene for each sample</a></span></li><li><span><a href=\"#Plot-the-figure\" data-toc-modified-id=\"Plot-the-figure-6\"><span class=\"toc-item-num\">6&nbsp;&nbsp;</span>Plot the figure</a></span><ul class=\"toc-item\"><li><span><a href=\"#Cases\" data-toc-modified-id=\"Cases-6.1\"><span class=\"toc-item-num\">6.1&nbsp;&nbsp;</span>Cases</a></span></li><li><span><a href=\"#Controls\" data-toc-modified-id=\"Controls-6.2\"><span class=\"toc-item-num\">6.2&nbsp;&nbsp;</span>Controls</a></span></li></ul></li><li><span><a href=\"#Cases-and-controls\" data-toc-modified-id=\"Cases-and-controls-7\"><span class=\"toc-item-num\">7&nbsp;&nbsp;</span>Cases and controls</a></span></li></ul></div>"
   ]
  },
  {
   "cell_type": "code",
   "execution_count": 1,
   "id": "8af21726",
   "metadata": {
    "ExecuteTime": {
     "end_time": "2024-07-15T09:23:15.654422Z",
     "start_time": "2024-07-15T09:23:15.632772Z"
    }
   },
   "outputs": [
    {
     "data": {
      "text/html": [
       "<style>.container { width:80% !important; }</style>"
      ],
      "text/plain": [
       "<IPython.core.display.HTML object>"
      ]
     },
     "metadata": {},
     "output_type": "display_data"
    }
   ],
   "source": [
    "from IPython.core.display import display, HTML\n",
    "display(HTML(\"<style>.container { width:80% !important; }</style>\"))"
   ]
  },
  {
   "cell_type": "code",
   "execution_count": 35,
   "id": "cf60a876",
   "metadata": {
    "ExecuteTime": {
     "end_time": "2024-07-15T09:30:02.402636Z",
     "start_time": "2024-07-15T09:30:02.398955Z"
    }
   },
   "outputs": [],
   "source": [
    "# # imported packages\n",
    "import csv\n",
    "# import random\n",
    "# import numpy as np\n",
    "import matplotlib\n",
    "import matplotlib.pyplot as plt\n",
    "# import math\n",
    "import matplotlib.ticker as plticker\n",
    "# from matplotlib.ticker import LinearLocator, FormatStrFormatter\n",
    "# from matplotlib.patches import Polygon\n",
    "# from matplotlib.patches import Patch\n",
    "# from matplotlib.lines import Line2D\n",
    "# from matplotlib import cm\n",
    "# import scipy.special\n",
    "# import scipy.integrate as it\n",
    "# from scipy import integrate\n",
    "# from scipy.interpolate import interp1d\n",
    "# from scipy.stats import kde\n",
    "# import copy\n",
    "# import glob, os\n",
    "# import re\n",
    "# from sklearn import datasets, linear_model\n",
    "import pandas as pd\n",
    "# from decimal import *\n",
    "# from operator import itemgetter    \n",
    "# from collections import OrderedDict\n",
    "# import timeit\n",
    "# import math\n",
    "# import scipy.special\n",
    "# from scipy import stats\n",
    "from matplotlib.ticker import (MultipleLocator, FormatStrFormatter, AutoMinorLocator)\n",
    "\n",
    "# import sys #provides functions and variables used to manipulate different parts of the Python runtime environment\n",
    "# import pysam\n",
    "# import re #regular expressions\n",
    "# import gzip\n",
    "# from Bio.Seq import Seq\n",
    "# from Bio.Alphabet import IUPAC #nucleotide and protein alphabet\n",
    "# from collections import defaultdict\n",
    "# from argparse import ArgumentParser\n",
    "\n",
    "# import matplotlib.ticker as ticker"
   ]
  },
  {
   "cell_type": "code",
   "execution_count": 5,
   "id": "cced8cba",
   "metadata": {
    "ExecuteTime": {
     "end_time": "2024-07-15T09:23:34.386162Z",
     "start_time": "2024-07-15T09:23:34.383655Z"
    }
   },
   "outputs": [],
   "source": [
    "matplotlib.rcParams['pdf.fonttype'] = 42\n",
    "matplotlib.rcParams['font.family'] = 'Helvetica'"
   ]
  },
  {
   "cell_type": "code",
   "execution_count": 6,
   "id": "5def7c5c",
   "metadata": {
    "ExecuteTime": {
     "end_time": "2024-07-15T09:23:34.392089Z",
     "start_time": "2024-07-15T09:23:34.387500Z"
    }
   },
   "outputs": [],
   "source": [
    "# Lists of colors for plots\n",
    "c0 = (0.76, 0.76, 0.76)\n",
    "c1 = (1.00, 0.18, 0.33);\n",
    "c2 = (1.00, 0.23, 0.19);\n",
    "c3 = (1.00, 0.58, 0.00);\n",
    "c4 = (1.00, 0.80, 0.00);\n",
    "c5 = (0.30, 0.85, 0.39);\n",
    "c6 = (0.35, 0.78, 0.98);\n",
    "c7 = (0.20, 0.67, 0.86);\n",
    "c8 = (0.00, 0.48, 1.00);\n",
    "c9 = (0.35, 0.34, 0.84);\n",
    "c10 = (0.00, 0.31, 0.57);\n",
    "c11 = (0.12, 0.29, 0.69);\n",
    "c12 = (0.17, 0.17, 0.42);\n",
    "c13 = (1.00, 1.00, 1.00);\n",
    "c14 = (0.77, 0.04, 0.00);"
   ]
  },
  {
   "cell_type": "code",
   "execution_count": 7,
   "id": "a4f9b746",
   "metadata": {
    "ExecuteTime": {
     "end_time": "2024-07-15T09:23:34.396640Z",
     "start_time": "2024-07-15T09:23:34.394252Z"
    }
   },
   "outputs": [],
   "source": [
    "#define the colors from colorbrewer2\n",
    "grey1 = '#f7f7f7'\n",
    "grey2 = '#cccccc'\n",
    "grey3 = '#969696'\n",
    "grey4 = '#636363'\n",
    "grey5 = '#252525'"
   ]
  },
  {
   "cell_type": "code",
   "execution_count": 8,
   "id": "71006b56",
   "metadata": {
    "ExecuteTime": {
     "end_time": "2024-07-15T09:23:34.575573Z",
     "start_time": "2024-07-15T09:23:34.569835Z"
    }
   },
   "outputs": [],
   "source": [
    "#define the colors from colorbrewer2\n",
    "orange1 = '#feedde'\n",
    "orange2 = '#fdbe85'\n",
    "orange3 = '#fd8d3c'\n",
    "orange4 = '#e6550d'\n",
    "orange5 = '#a63603'\n",
    "blue1 = '#eff3ff'\n",
    "blue2 = '#bdd7e7'\n",
    "blue3 = '#6baed6'\n",
    "blue4 = '#3182bd'\n",
    "blue5 = '#08519c'\n",
    "green1 = '#edf8e9'\n",
    "green2 = '#bae4b3'\n",
    "green3 = '#74c476'\n",
    "green4 = '#31a354'\n",
    "green5 = '#006d2c'\n",
    "grey1 = '#f7f7f7'\n",
    "grey2 = '#cccccc'\n",
    "grey3 = '#969696'\n",
    "grey4 = '#636363'\n",
    "grey5 = '#252525'\n",
    "purple1 = '#f2f0f7'\n",
    "purple2 = '#cbc9e2'\n",
    "purple3 = '#9e9ac8'\n",
    "purple4 = '#756bb1'\n",
    "purple5 = '#54278f'\n",
    "red1 = '#fee5d9'\n",
    "red2 = '#fcae91'\n",
    "red3 = '#fb6a4a'\n",
    "red4 = '#de2d26'\n",
    "red5 = '#a50f15'\n",
    "yellow = '#ffffd4'"
   ]
  },
  {
   "cell_type": "code",
   "execution_count": 9,
   "id": "b0530b3a",
   "metadata": {
    "ExecuteTime": {
     "end_time": "2024-07-15T09:23:35.599629Z",
     "start_time": "2024-07-15T09:23:35.595716Z"
    },
    "code_folding": []
   },
   "outputs": [],
   "source": [
    "mutation_class_colors = {'NPM1': c1,\n",
    "                        'DNA methylation': blue3,\n",
    "                        'Chromatin modifiers': orange3,\n",
    "                        'Transcription factors':  green3,\n",
    "                        'Transcriptional corepressors':  green4,\n",
    "                        'Tumour suppressor': purple3,\n",
    "                        'Spliceosome': 'palevioletred',\n",
    "                        'Cohesin': 'lightseagreen',\n",
    "                        'Cell signalling': red2,\n",
    "                        'mCA': grey4,\n",
    "                         'missing driver': grey4}"
   ]
  },
  {
   "cell_type": "code",
   "execution_count": 10,
   "id": "25731897",
   "metadata": {
    "ExecuteTime": {
     "end_time": "2024-07-15T09:23:35.960447Z",
     "start_time": "2024-07-15T09:23:35.953441Z"
    },
    "code_folding": []
   },
   "outputs": [],
   "source": [
    "mutation_classes = {'NPM1': 'NPM1',\n",
    "                   'DNMT3A': 'DNA methylation',\n",
    "                   'TET2': 'DNA methylation',\n",
    "                   'IDH1': 'DNA methylation',\n",
    "                   'IDH2': 'DNA methylation',\n",
    "                   'ASXL1': 'Chromatin modifiers',\n",
    "                   'EZH2': 'Chromatin modifiers',\n",
    "                   'RUNX1': 'Transcription factors',\n",
    "                   'CEBPA': 'Transcription factors',\n",
    "                   'GATA2': 'Transcription factors',\n",
    "                   'BCOR': 'Transcriptional corepressors',\n",
    "                   'BCORL1': 'Transcriptional corepressors',\n",
    "                   'TP53': 'Tumour suppressor',\n",
    "                   'PPM1D': 'Tumour suppressor',\n",
    "                   'CHEK2': 'Tumour suppressor',\n",
    "                   'WT1': 'Tumour suppressor',\n",
    "                   'CBL': 'Tumour suppressor',\n",
    "                   'DDX41': 'Tumour suppressor',\n",
    "                   'SRSF2': 'Spliceosome',\n",
    "                   'SF3B1': 'Spliceosome',\n",
    "                   'U2AF1': 'Spliceosome',\n",
    "                   'ZRSR2': 'Spliceosome',\n",
    "                   'RAD21': 'Cohesin',\n",
    "                   'STAG2': 'Cohesin',\n",
    "                   'FLT3': 'Cell signalling',\n",
    "                   'KIT': 'Cell signalling',\n",
    "                   'JAK2': 'Cell signalling',\n",
    "                   'KRAS': 'Cell signalling',\n",
    "                   'NRAS': 'Cell signalling',\n",
    "                   'PTPN11': 'Cell signalling',\n",
    "                   'CSF3R': 'Cell signalling',\n",
    "                   'GNB1': 'Cell signalling',\n",
    "                   'GNAS': 'Cell signalling',\n",
    "                   'MPL': 'Cell signalling',\n",
    "                    'mCA': 'mCA',\n",
    "                   '15q CNLOH': 'mCA',\n",
    "                   '4q CNLOH': 'mCA',\n",
    "                   '4 gain?': 'mCA',\n",
    "                   'X gain': 'mCA',\n",
    "                    'chrX': 'mCA',\n",
    "                    'chr19p': 'mCA',\n",
    "                    'chr9p': 'mCA',\n",
    "                    'chr7q': 'mCA',\n",
    "                    'chr4': 'mCA',\n",
    "                    'chr4q': 'mCA',\n",
    "                   '19p CNLOH': 'mCA',\n",
    "                   '9p CNLOH': 'mCA',\n",
    "                   '7q CNLOH': 'mCA',\n",
    "                   'missing driver': 'missing driver'}"
   ]
  },
  {
   "cell_type": "code",
   "execution_count": 11,
   "id": "d07364d2",
   "metadata": {
    "ExecuteTime": {
     "end_time": "2024-07-15T09:23:42.889799Z",
     "start_time": "2024-07-15T09:23:42.884992Z"
    },
    "scrolled": true
   },
   "outputs": [],
   "source": [
    "panel_list = ['NPM1','DNMT3A', 'TET2', 'IDH2', 'IDH1', 'ASXL1', 'EZH2', 'RUNX1', 'CEBPA', 'GATA2', 'BCORL1', 'BCOR', 'TP53', 'CHEK2',  'CBL', 'WT1','PPM1D', 'DDX41',\n",
    "             'SRSF2', 'SF3B1', 'ZRSR2', 'U2AF1', 'STAG2', 'RAD21', 'MPL', 'GNB1', 'GNAS', 'JAK2', 'CSF3R', 'KRAS', 'NRAS', 'FLT3', 'KIT', 'PTPN11', 'mCA', 'missing driver']\n",
    "    \n",
    "panel_list.append('no mutations')\n",
    "\n",
    "panel_list_dict = {}\n",
    "for i in enumerate(reversed(panel_list)):\n",
    "    panel_list_dict[i[1]]=i[0]"
   ]
  },
  {
   "cell_type": "markdown",
   "id": "14cf148d",
   "metadata": {},
   "source": [
    "# Create dictionary of sample details"
   ]
  },
  {
   "cell_type": "code",
   "execution_count": 15,
   "id": "4b8f10ce",
   "metadata": {
    "ExecuteTime": {
     "end_time": "2024-07-15T09:26:31.235300Z",
     "start_time": "2024-07-15T09:26:31.216152Z"
    },
    "code_folding": []
   },
   "outputs": [],
   "source": [
    "#create a dictionary of the sample details\n",
    "cases = {} #e.g. {'C92_002': ['C92_002_s1', 'C92_002_s2', 'C92_002_s3', 'C92_002_s4'....]}\n",
    "controls = {} #e.g. {'CNTRL_001': ['CNTRL_001_s1', 'CNTRL_001_s10', 'CNTRL_001_s2'...]}\n",
    "cases_and_controls = {}\n",
    "sample_ages = {} #e.g. {'C92_002_s1': 73.73, 'C92_002_s2': 75.0, 'C92_002_s3': 75.83...}\n",
    "sample_ages_dict = {} #e.g. C92_002 = [73.73, 75.0, 75.83...]\n",
    "sample_ages_dict_names = {} #e.g. {C92_002: {73.73: C92_002_s1, 75.0: C92_002_s2...}}\n",
    "sample_diagnosis_age = {} #e.g. {'C92_002': 81.1, 'C92_003': 75.21, 'C92_005': 70.09...}\n",
    "sample_DNA_amount = {} #e.g. {'C92_002_s1': '45', 'C92_002_s2': '50', 'C92_002_s3': '50'...}\n",
    "matched_sample = {} #e.g. {'C92_002': 'CNTRL_169', 'C92_003': 'CNTRL_002'...}\n",
    "\n",
    "with open('Data_files/UKCTOCS_samples_processed_information.csv') as csvfile:\n",
    "    readreader = csv.reader(csvfile)\n",
    "    row_count=0\n",
    "    for row in readreader:\n",
    "        if row_count>0:\n",
    "            sample_name = row[1].split('_')[0]+'_'+row[1].split('_')[1]\n",
    "            timepoint = row[1]\n",
    "            sample_ages[timepoint]=float(row[6]) #dictionary of e.g. C92_007_s2 = 76\n",
    "            \n",
    "            if sample_name in sample_ages_dict.keys():\n",
    "                sample_ages_dict[sample_name].append(float(row[6]))\n",
    "            else:\n",
    "                sample_ages_dict[sample_name]=[float(row[6])]\n",
    "                \n",
    "            if sample_name in sample_ages_dict_names.keys():\n",
    "                sample_ages_dict_names[sample_name][float(row[6])]=timepoint\n",
    "            else:\n",
    "                sample_ages_dict_names[sample_name]={float(row[6]): timepoint}\n",
    "                \n",
    "            sample_DNA_amount[timepoint]=row[2]\n",
    "            if row[7]!='':\n",
    "                if '_' in row[7]:\n",
    "                    matched_sample_name = row[7].split('_')[0]+'_'+row[7].split('_')[1]\n",
    "                    matched_sample[sample_name]=matched_sample_name\n",
    "                    \n",
    "            if sample_name in cases_and_controls.keys():\n",
    "                cases_and_controls[sample_name].append(timepoint)\n",
    "            else:\n",
    "                cases_and_controls[sample_name]=[timepoint]\n",
    "                    \n",
    "            if row[0]=='Case':\n",
    "                if sample_name in cases.keys():\n",
    "                    cases[sample_name].append(timepoint)\n",
    "                else:\n",
    "                    cases[sample_name]=[timepoint]\n",
    "                    \n",
    "                sample_diagnosis_age[sample_name]=float(row[5])\n",
    "                \n",
    "            if row[0]=='Control':\n",
    "                if sample_name in controls.keys():\n",
    "                    controls[sample_name].append(timepoint)\n",
    "                else:\n",
    "                    controls[sample_name]=[timepoint]\n",
    "                if sample_name in matched_sample.keys():\n",
    "                    sample_diagnosis_age[sample_name]=sample_diagnosis_age[matched_sample[sample_name]]\n",
    "\n",
    "        row_count+=1\n",
    "\n",
    "sample_ages_lists = {}\n",
    "for k, v in sample_ages_dict.items():\n",
    "    sample_ages_lists[k] = sorted(v)\n",
    "        \n",
    "cases_and_controls_sorted = {}\n",
    "for k, v in cases_and_controls.items():\n",
    "    ages_sorted = []\n",
    "    for i in v:\n",
    "        timepoint_number = int(i.split('_')[2][1:])\n",
    "        ages_sorted.append((timepoint_number, i))\n",
    "    sorted_v = sorted(ages_sorted, reverse = False)\n",
    "    cases_and_controls_sorted[k]=[]\n",
    "    for i in sorted_v:\n",
    "        cases_and_controls_sorted[k].append(i[1])\n",
    "        \n",
    "# cases_and_controls_sorted"
   ]
  },
  {
   "cell_type": "markdown",
   "id": "021ba5f7",
   "metadata": {},
   "source": [
    "# Import the sample variant details"
   ]
  },
  {
   "cell_type": "code",
   "execution_count": 19,
   "id": "9d6f7bca",
   "metadata": {
    "ExecuteTime": {
     "end_time": "2024-07-15T09:27:06.040556Z",
     "start_time": "2024-07-15T09:27:05.944487Z"
    }
   },
   "outputs": [
    {
     "data": {
      "text/html": [
       "<div>\n",
       "<style scoped>\n",
       "    .dataframe tbody tr th:only-of-type {\n",
       "        vertical-align: middle;\n",
       "    }\n",
       "\n",
       "    .dataframe tbody tr th {\n",
       "        vertical-align: top;\n",
       "    }\n",
       "\n",
       "    .dataframe thead th {\n",
       "        text-align: right;\n",
       "    }\n",
       "</style>\n",
       "<table border=\"1\" class=\"dataframe\">\n",
       "  <thead>\n",
       "    <tr style=\"text-align: right;\">\n",
       "      <th></th>\n",
       "      <th>sample name</th>\n",
       "      <th>age_sample_taken</th>\n",
       "      <th>months_to_diagnosis</th>\n",
       "      <th>age_at_AML_diagnosis</th>\n",
       "      <th>matched_sample</th>\n",
       "      <th>chromosome</th>\n",
       "      <th>start</th>\n",
       "      <th>end</th>\n",
       "      <th>REF</th>\n",
       "      <th>ALT</th>\n",
       "      <th>...</th>\n",
       "      <th>cosmic_total</th>\n",
       "      <th>cosmic_haem_lymphoid</th>\n",
       "      <th>cosmic_sites</th>\n",
       "      <th>exac_all</th>\n",
       "      <th>gnomad_all</th>\n",
       "      <th>clinvar_allele_id</th>\n",
       "      <th>clinvar_dn</th>\n",
       "      <th>clinvar_disdb</th>\n",
       "      <th>clinvar_rev</th>\n",
       "      <th>clin_sig</th>\n",
       "    </tr>\n",
       "  </thead>\n",
       "  <tbody>\n",
       "    <tr>\n",
       "      <th>0</th>\n",
       "      <td>C92_002_s1</td>\n",
       "      <td>73.73</td>\n",
       "      <td>88.37</td>\n",
       "      <td>81.1</td>\n",
       "      <td>CNTRL_169_s1</td>\n",
       "      <td>chr2</td>\n",
       "      <td>198266834.0</td>\n",
       "      <td>198266834.0</td>\n",
       "      <td>T</td>\n",
       "      <td>C</td>\n",
       "      <td>...</td>\n",
       "      <td>655</td>\n",
       "      <td>523.0</td>\n",
       "      <td>2(lung),1(oesophagus),15(pancreas),17(NS),4(bi...</td>\n",
       "      <td>0.0002</td>\n",
       "      <td>.</td>\n",
       "      <td>362883</td>\n",
       "      <td>Acute_myeloid_leukemia</td>\n",
       "      <td>Human_Phenotype_Ontology:HP:0004808\\x2cMeSH:D0...</td>\n",
       "      <td>no_assertion_criteria_provided</td>\n",
       "      <td>Likely_pathogenic</td>\n",
       "    </tr>\n",
       "    <tr>\n",
       "      <th>1</th>\n",
       "      <td>C92_002_s1</td>\n",
       "      <td>73.73</td>\n",
       "      <td>88.37</td>\n",
       "      <td>81.1</td>\n",
       "      <td>CNTRL_169_s1</td>\n",
       "      <td>chr2</td>\n",
       "      <td>25467059.0</td>\n",
       "      <td>25467059.0</td>\n",
       "      <td>G</td>\n",
       "      <td>A</td>\n",
       "      <td>...</td>\n",
       "      <td>3</td>\n",
       "      <td>2.0</td>\n",
       "      <td>1(NS),2(haematopoietic_and_lymphoid_tissue)</td>\n",
       "      <td>.</td>\n",
       "      <td>.</td>\n",
       "      <td>.</td>\n",
       "      <td>.</td>\n",
       "      <td>.</td>\n",
       "      <td>.</td>\n",
       "      <td>.</td>\n",
       "    </tr>\n",
       "    <tr>\n",
       "      <th>2</th>\n",
       "      <td>C92_002_s1</td>\n",
       "      <td>73.73</td>\n",
       "      <td>88.37</td>\n",
       "      <td>81.1</td>\n",
       "      <td>CNTRL_169_s1</td>\n",
       "      <td>chr4</td>\n",
       "      <td>106157699.0</td>\n",
       "      <td>106157700.0</td>\n",
       "      <td>AT</td>\n",
       "      <td>A</td>\n",
       "      <td>...</td>\n",
       "      <td>0</td>\n",
       "      <td>0.0</td>\n",
       "      <td>.</td>\n",
       "      <td>0</td>\n",
       "      <td>.</td>\n",
       "      <td>.</td>\n",
       "      <td>.</td>\n",
       "      <td>.</td>\n",
       "      <td>.</td>\n",
       "      <td>.</td>\n",
       "    </tr>\n",
       "    <tr>\n",
       "      <th>3</th>\n",
       "      <td>C92_002_s1</td>\n",
       "      <td>73.73</td>\n",
       "      <td>88.37</td>\n",
       "      <td>81.1</td>\n",
       "      <td>CNTRL_169_s1</td>\n",
       "      <td>chr4</td>\n",
       "      <td>106155418.0</td>\n",
       "      <td>106155418.0</td>\n",
       "      <td>C</td>\n",
       "      <td>CTT</td>\n",
       "      <td>...</td>\n",
       "      <td>0</td>\n",
       "      <td>0.0</td>\n",
       "      <td>.</td>\n",
       "      <td>0</td>\n",
       "      <td>.</td>\n",
       "      <td>.</td>\n",
       "      <td>.</td>\n",
       "      <td>.</td>\n",
       "      <td>.</td>\n",
       "      <td>.</td>\n",
       "    </tr>\n",
       "    <tr>\n",
       "      <th>4</th>\n",
       "      <td>C92_002_s1</td>\n",
       "      <td>73.73</td>\n",
       "      <td>88.37</td>\n",
       "      <td>81.1</td>\n",
       "      <td>CNTRL_169_s1</td>\n",
       "      <td>chr20</td>\n",
       "      <td>57484420.0</td>\n",
       "      <td>57484420.0</td>\n",
       "      <td>C</td>\n",
       "      <td>T</td>\n",
       "      <td>...</td>\n",
       "      <td>819</td>\n",
       "      <td>3.0</td>\n",
       "      <td>17(ovary),3(kidney),8(thyroid),84(large_intest...</td>\n",
       "      <td>8.238e-06</td>\n",
       "      <td>.</td>\n",
       "      <td>30972</td>\n",
       "      <td>Hepatocellular_carcinoma|Neoplasm|Pancreatic_a...</td>\n",
       "      <td>Human_Phenotype_Ontology:HP:0001402\\x2cMedGen:...</td>\n",
       "      <td>no_assertion_criteria_provided</td>\n",
       "      <td>Pathogenic/Likely_pathogenic</td>\n",
       "    </tr>\n",
       "  </tbody>\n",
       "</table>\n",
       "<p>5 rows × 39 columns</p>\n",
       "</div>"
      ],
      "text/plain": [
       "  sample name  age_sample_taken  months_to_diagnosis  age_at_AML_diagnosis  \\\n",
       "0  C92_002_s1             73.73                88.37                  81.1   \n",
       "1  C92_002_s1             73.73                88.37                  81.1   \n",
       "2  C92_002_s1             73.73                88.37                  81.1   \n",
       "3  C92_002_s1             73.73                88.37                  81.1   \n",
       "4  C92_002_s1             73.73                88.37                  81.1   \n",
       "\n",
       "  matched_sample chromosome        start          end REF  ALT  ...  \\\n",
       "0   CNTRL_169_s1       chr2  198266834.0  198266834.0   T    C  ...   \n",
       "1   CNTRL_169_s1       chr2   25467059.0   25467059.0   G    A  ...   \n",
       "2   CNTRL_169_s1       chr4  106157699.0  106157700.0  AT    A  ...   \n",
       "3   CNTRL_169_s1       chr4  106155418.0  106155418.0   C  CTT  ...   \n",
       "4   CNTRL_169_s1      chr20   57484420.0   57484420.0   C    T  ...   \n",
       "\n",
       "   cosmic_total  cosmic_haem_lymphoid  \\\n",
       "0           655                 523.0   \n",
       "1             3                   2.0   \n",
       "2             0                   0.0   \n",
       "3             0                   0.0   \n",
       "4           819                   3.0   \n",
       "\n",
       "                                        cosmic_sites   exac_all gnomad_all  \\\n",
       "0  2(lung),1(oesophagus),15(pancreas),17(NS),4(bi...     0.0002          .   \n",
       "1        1(NS),2(haematopoietic_and_lymphoid_tissue)          .          .   \n",
       "2                                                  .          0          .   \n",
       "3                                                  .          0          .   \n",
       "4  17(ovary),3(kidney),8(thyroid),84(large_intest...  8.238e-06          .   \n",
       "\n",
       "  clinvar_allele_id                                         clinvar_dn  \\\n",
       "0            362883                             Acute_myeloid_leukemia   \n",
       "1                 .                                                  .   \n",
       "2                 .                                                  .   \n",
       "3                 .                                                  .   \n",
       "4             30972  Hepatocellular_carcinoma|Neoplasm|Pancreatic_a...   \n",
       "\n",
       "                                       clinvar_disdb  \\\n",
       "0  Human_Phenotype_Ontology:HP:0004808\\x2cMeSH:D0...   \n",
       "1                                                  .   \n",
       "2                                                  .   \n",
       "3                                                  .   \n",
       "4  Human_Phenotype_Ontology:HP:0001402\\x2cMedGen:...   \n",
       "\n",
       "                      clinvar_rev                      clin_sig  \n",
       "0  no_assertion_criteria_provided             Likely_pathogenic  \n",
       "1                               .                             .  \n",
       "2                               .                             .  \n",
       "3                               .                             .  \n",
       "4  no_assertion_criteria_provided  Pathogenic/Likely_pathogenic  \n",
       "\n",
       "[5 rows x 39 columns]"
      ]
     },
     "execution_count": 19,
     "metadata": {},
     "output_type": "execute_result"
    }
   ],
   "source": [
    "#dataframe of variant trajectories\n",
    "df = pd.read_csv(\"Data_files/UKCTOCS_watson_non-germline_variants_calls_SNVs_indels_mCAs_April_2024.csv\")\n",
    "df.head()"
   ]
  },
  {
   "cell_type": "code",
   "execution_count": 20,
   "id": "e02eba3f",
   "metadata": {
    "ExecuteTime": {
     "end_time": "2024-07-15T09:27:14.490848Z",
     "start_time": "2024-07-15T09:27:14.481833Z"
    },
    "code_folding": [
     0
    ]
   },
   "outputs": [],
   "source": [
    "def sample_trajectories(person_ID, df): #extract trajectories of each variant for a given sample, e.g. 'C92_002'\n",
    "\n",
    "    filtered_df = df[df['sample name'].str.startswith(person_ID)]\n",
    "\n",
    "#     person_variant_dict={}\n",
    "    var_dict={}\n",
    "    variant_details = {}\n",
    "#     person_variant_dict[person_ID]=var_dict\n",
    "\n",
    "    gene_variant = ''\n",
    "\n",
    "    for index, row in filtered_df.iterrows():\n",
    "        # Access data for each column by column name\n",
    "        variant_type=row['variant_type']\n",
    "#         if row['VAF (cell fraction for mCAs)'] != 'not processed':\n",
    "        if variant_type=='SNV':\n",
    "            variant=row['AA_change']\n",
    "            gene=row['gene']\n",
    "            VAF=float(row['VAF (cell fraction for mCAs)'])\n",
    "            age=row['age_sample_taken']\n",
    "            gene_variant=gene+'_'+variant\n",
    "        elif (variant_type=='CNLOH' or variant_type=='gain' or variant_type=='gain?' or variant_type=='loss'):\n",
    "            VAF=row['VAF (cell fraction for mCAs)']\n",
    "            age=row['age_sample_taken']\n",
    "            chromosome=row['chromosome']\n",
    "            gene_variant=chromosome+'_'+variant_type\n",
    "        elif (variant_type=='Deletion' or variant_type=='Insertion' or variant_type=='Complex'):\n",
    "            VAF=float(row['VAF (cell fraction for mCAs)'])\n",
    "            variant=row['AA_change']\n",
    "            age=row['age_sample_taken']\n",
    "            gene=row['gene']\n",
    "            gene_variant=gene+'_'+variant\n",
    "        elif (variant_type=='ITD'):\n",
    "            VAF=float(row['VAF (cell fraction for mCAs)'])\n",
    "            variant=row['AA_change']\n",
    "            age=row['age_sample_taken']\n",
    "            gene=row['gene']\n",
    "            gene_variant=gene+'_'+variant\n",
    "            \n",
    "        if gene_variant in var_dict.keys():\n",
    "            if VAF != 'not processed':\n",
    "                var_dict[gene_variant][age]=float(VAF)\n",
    "        else:\n",
    "            if VAF != 'not processed':\n",
    "                var_dict[gene_variant]={age: float(VAF)}\n",
    "            \n",
    "        if gene_variant != '':\n",
    "            if variant_type not in ('CNLOH', 'gain', 'gain?', 'loss'):\n",
    "                chromosome = row['chromosome']\n",
    "                start = int(row['start'])\n",
    "                ref = row['REF']\n",
    "                variant_details[gene_variant]=(chromosome, start, ref)\n",
    "            else:\n",
    "                variant_details[gene_variant]=(chromosome, '', '')\n",
    "\n",
    "    return var_dict, variant_details"
   ]
  },
  {
   "cell_type": "code",
   "execution_count": 22,
   "id": "6bdce14b",
   "metadata": {
    "ExecuteTime": {
     "end_time": "2024-07-15T09:27:18.442618Z",
     "start_time": "2024-07-15T09:27:18.347596Z"
    }
   },
   "outputs": [],
   "source": [
    "case_trajectories = {}\n",
    "for sample in cases:\n",
    "    var_dict, variant_details = sample_trajectories(sample, df)\n",
    "    case_trajectories[sample] = var_dict\n",
    "    \n",
    "# case_trajectories"
   ]
  },
  {
   "cell_type": "code",
   "execution_count": 23,
   "id": "381b1f46",
   "metadata": {
    "ExecuteTime": {
     "end_time": "2024-07-15T09:27:20.842856Z",
     "start_time": "2024-07-15T09:27:20.770099Z"
    }
   },
   "outputs": [],
   "source": [
    "control_trajectories = {}\n",
    "for sample in controls:\n",
    "    control_var_dict, control_variant_details = sample_trajectories(sample, df)\n",
    "    control_trajectories[sample] = control_var_dict\n",
    "    \n",
    "# control_trajectories"
   ]
  },
  {
   "cell_type": "markdown",
   "id": "381494e7",
   "metadata": {},
   "source": [
    "# Import which samples have missing drivers"
   ]
  },
  {
   "cell_type": "code",
   "execution_count": 24,
   "id": "b1404644",
   "metadata": {
    "ExecuteTime": {
     "end_time": "2024-07-15T09:29:11.687401Z",
     "start_time": "2024-07-15T09:29:11.665809Z"
    },
    "scrolled": true
   },
   "outputs": [
    {
     "data": {
      "text/plain": [
       "{'C92_003': 1,\n",
       " 'C92_008': 1,\n",
       " 'C92_011': 1,\n",
       " 'C92_012': 2,\n",
       " 'C92_019': 1,\n",
       " 'C92_022': 1,\n",
       " 'C92_023': 1,\n",
       " 'C92_036': 1,\n",
       " 'C92_045': 1,\n",
       " 'C92_050': 2,\n",
       " 'C92_051': 1,\n",
       " 'C92_054': 1,\n",
       " 'C92_057': 1,\n",
       " 'C92_064': 1,\n",
       " 'C92_067': 1,\n",
       " 'C92_088': 1,\n",
       " 'C92_090': 1,\n",
       " 'CNTRL_005': 1,\n",
       " 'CNTRL_122': 1,\n",
       " 'CNTRL_162': 1,\n",
       " 'CNTRL_167': 1,\n",
       " 'CNTRL_192': 1,\n",
       " 'CNTRL_201': 1}"
      ]
     },
     "execution_count": 24,
     "metadata": {},
     "output_type": "execute_result"
    }
   ],
   "source": [
    "import ast\n",
    "df = pd.read_csv(\"Data_files/Optimiser_results_v14.txt\", sep = '\\t')\n",
    "df['Fitnesses'] = df['Fitnesses'].apply(ast.literal_eval)\n",
    "df = df.set_index('Sample_name')\n",
    "df_dict = pd.DataFrame.to_dict(df, orient = 'index')\n",
    "\n",
    "samples_with_missing_drivers = {}\n",
    "\n",
    "for sample_name, details in df_dict.items():\n",
    "    fitnesses = details['Fitnesses']\n",
    "    missing_driver = []\n",
    "    for clone_name in fitnesses.keys():\n",
    "        if 'X' in clone_name:\n",
    "            if 'X' not in missing_driver:\n",
    "                missing_driver.append('X')\n",
    "        if 'Y' in clone_name:\n",
    "            if 'Y' not in missing_driver:\n",
    "                missing_driver.append('Y')\n",
    "        if 'Z' in clone_name:\n",
    "            if 'Z' not in missing_driver:\n",
    "                missing_driver.append('Z')\n",
    "                \n",
    "    if len(missing_driver)>0:\n",
    "        samples_with_missing_drivers[sample_name]=len(missing_driver)\n",
    "                \n",
    "samples_with_missing_drivers"
   ]
  },
  {
   "cell_type": "markdown",
   "id": "ae461dd4",
   "metadata": {},
   "source": [
    "# Which samples have which evolution pattern"
   ]
  },
  {
   "cell_type": "code",
   "execution_count": 25,
   "id": "00a6dad6",
   "metadata": {
    "ExecuteTime": {
     "end_time": "2024-07-15T09:29:23.707007Z",
     "start_time": "2024-07-15T09:29:23.701432Z"
    },
    "code_folding": [
     0,
     28,
     42
    ]
   },
   "outputs": [],
   "source": [
    "case_linear_evolution = ['C92_002', \n",
    "                    'C92_003',\n",
    "                    'C92_005',\n",
    "                    'C92_007',\n",
    "                    'C92_011',\n",
    "                    'C92_016', #??linear or late\n",
    "                    'C92_018',\n",
    "                    'C92_019',\n",
    "                    'C92_024',\n",
    "                    'C92_032',\n",
    "                    'C92_033',\n",
    "                    'C92_034',\n",
    "                    'C92_041',\n",
    "                    'C92_042',\n",
    "                    'C92_049',\n",
    "                    'C92_051',\n",
    "                    'C92_053',\n",
    "                    'C92_057',\n",
    "                    'C92_058',\n",
    "                    'C92_061',\n",
    "                    'C92_062',\n",
    "                    'C92_064',\n",
    "                    'C92_065',\n",
    "                    'C92_067',\n",
    "                    'C92_068',\n",
    "                    'C92_070', #??linear or olate\n",
    "                    'C92_086']\n",
    "\n",
    "case_clonal_interference = ['C92_008',\n",
    "                       'C92_009',\n",
    "                       'C92_012',\n",
    "                       'C92_022',\n",
    "                       'C92_023',\n",
    "                       'C92_036',\n",
    "                       'C92_045',\n",
    "                       'C92_050',\n",
    "                       'C92_054',\n",
    "                       'C92_056',\n",
    "                       'C92_066',\n",
    "                       'C92_088',\n",
    "                       'C92_090']\n",
    "\n",
    "case_late_evolution = ['C92_015',\n",
    "                  'C92_039',\n",
    "                  'C92_043',\n",
    "                  'C92_044',\n",
    "                  'C92_047',\n",
    "                  'C92_048',\n",
    "                  'C92_052',\n",
    "                  'C92_055',\n",
    "                  'C92_063',\n",
    "                  'C92_072']\n",
    "\n",
    "case_evolutionary_patterns_dict = {'Linear': [], 'Clonal interference': [], 'Late': []}\n",
    "\n",
    "for sample in case_linear_evolution:\n",
    "    case_evolutionary_patterns_dict['Linear'].append(sample)\n",
    "\n",
    "for sample in case_clonal_interference:\n",
    "    case_evolutionary_patterns_dict['Clonal interference'].append(sample)\n",
    "\n",
    "for sample in case_late_evolution:\n",
    "    case_evolutionary_patterns_dict['Late'].append(sample)"
   ]
  },
  {
   "cell_type": "code",
   "execution_count": 26,
   "id": "472ed3b9",
   "metadata": {
    "ExecuteTime": {
     "end_time": "2024-07-15T09:29:27.313833Z",
     "start_time": "2024-07-15T09:29:27.306905Z"
    },
    "code_folding": [
     0
    ]
   },
   "outputs": [],
   "source": [
    "control_linear_evolution = ['CNTRL_001', \n",
    "                    'CNTRL_002', \n",
    "                    'CNTRL_004', \n",
    "                    'CNTRL_122', \n",
    "                    'CNTRL_160', \n",
    "                    'CNTRL_162', \n",
    "                    'CNTRL_163', \n",
    "                    'CNTRL_164', \n",
    "                    'CNTRL_166', \n",
    "                    'CNTRL_167', \n",
    "                    'CNTRL_168', \n",
    "                    'CNTRL_169', \n",
    "                    'CNTRL_172', \n",
    "                    'CNTRL_173', \n",
    "                    'CNTRL_175', \n",
    "                    'CNTRL_178', \n",
    "                    'CNTRL_179', \n",
    "                    'CNTRL_180', \n",
    "                    'CNTRL_182', \n",
    "                    'CNTRL_183', \n",
    "                    'CNTRL_184',\n",
    "                    'CNTRL_185',\n",
    "                    'CNTRL_186', \n",
    "                    'CNTRL_187', \n",
    "                    'CNTRL_190', \n",
    "                    'CNTRL_191', \n",
    "                    'CNTRL_193', \n",
    "                    'CNTRL_194', \n",
    "                    'CNTRL_195', \n",
    "                    'CNTRL_196', \n",
    "                    'CNTRL_197', \n",
    "                    'CNTRL_199', \n",
    "                    'CNTRL_202', \n",
    "                    'CNTRL_204']\n",
    "\n",
    "control_clonal_interference = ['CNTRL_005','CNTRL_192', 'CNTRL_201']\n",
    "\n",
    "control_late_evolution = ['CNTRL_203']\n",
    "\n",
    "control_evolutionary_patterns_dict = {'Linear': [], 'Clonal interference': [], 'Late': []}\n",
    "\n",
    "for sample in control_linear_evolution:\n",
    "    control_evolutionary_patterns_dict['Linear'].append(sample)\n",
    "\n",
    "for sample in control_clonal_interference:\n",
    "    control_evolutionary_patterns_dict['Clonal interference'].append(sample)\n",
    "\n",
    "for sample in control_late_evolution:\n",
    "    control_evolutionary_patterns_dict['Late'].append(sample)"
   ]
  },
  {
   "cell_type": "markdown",
   "id": "ecbdf675",
   "metadata": {},
   "source": [
    "# Count the number of each gene for each sample"
   ]
  },
  {
   "cell_type": "code",
   "execution_count": 28,
   "id": "c32bbca0",
   "metadata": {
    "ExecuteTime": {
     "end_time": "2024-07-15T09:29:38.824018Z",
     "start_time": "2024-07-15T09:29:38.817924Z"
    },
    "code_folding": [
     0
    ],
    "scrolled": true
   },
   "outputs": [],
   "source": [
    "def gene_mutation_incidence(trajectories):\n",
    "    #count the incidence of numbers of each gene\n",
    "    all_samples_gene_list = {}\n",
    "    all_samples_variants = {}\n",
    "    all_samples_gene_counts = {}\n",
    "\n",
    "    for k, v in trajectories.items():\n",
    "        sample_genes = []\n",
    "        sample_variants = []\n",
    "        sample_genes_counts = {}\n",
    "        for variant, trajectory in v.items():\n",
    "            variant2 = variant.split('_')\n",
    "            if 'chr' in variant2[0]:\n",
    "                gene = 'mCA'\n",
    "#             elif variant2[0] in ['X', 'Y', 'Z']:\n",
    "#                 gene = 'missing driver'\n",
    "            else:\n",
    "                gene = variant2[0]\n",
    "\n",
    "            if gene not in sample_genes:\n",
    "                sample_genes.append(gene)\n",
    "            if variant not in sample_variants:\n",
    "                sample_variants.append(variant)\n",
    "\n",
    "            if gene in sample_genes_counts.keys():\n",
    "                sample_genes_counts[gene]+=1\n",
    "            else:\n",
    "                sample_genes_counts[gene]=1\n",
    "                \n",
    "        if k in samples_with_missing_drivers.keys():\n",
    "            number_of_missing_drivers = samples_with_missing_drivers[k]\n",
    "            sample_genes.append('missing driver')\n",
    "            sample_variants.append('missing driver')\n",
    "            sample_genes_counts['missing driver']=number_of_missing_drivers\n",
    "\n",
    "        all_samples_gene_list[k]=sample_genes\n",
    "        all_samples_variants[k]= sample_variants\n",
    "        all_samples_gene_counts[k]=sample_genes_counts\n",
    "\n",
    "    return all_samples_gene_list, all_samples_variants, all_samples_gene_counts"
   ]
  },
  {
   "cell_type": "code",
   "execution_count": 29,
   "id": "c225c729",
   "metadata": {
    "ExecuteTime": {
     "end_time": "2024-07-15T09:29:39.208939Z",
     "start_time": "2024-07-15T09:29:39.202837Z"
    },
    "code_folding": [
     0
    ]
   },
   "outputs": [],
   "source": [
    "def evolutionary_patterns_genes_mutations(all_samples_gene_list, all_samples_variants, evolutionary_patterns_dict): \n",
    "    evolutionary_patterns_dict_sorted_by_number_genes = {}\n",
    "    evolutionary_patterns_dict_sorted_by_number_mutations = {}\n",
    "\n",
    "    for k, v in evolutionary_patterns_dict.items():\n",
    "        evol_pattern = k\n",
    "        samples = v\n",
    "        samples_lists = []\n",
    "        for sample in samples:\n",
    "            number_mutated_genes = len(all_samples_gene_list[sample])\n",
    "            number_mutations = len(all_samples_variants[sample])\n",
    "            samples_lists.append((sample, number_mutated_genes, number_mutations))\n",
    "\n",
    "        sorted_samples_list_by_genes = sorted(samples_lists, key=lambda x: x[1], reverse = True)  #sort on the number of mutated genes\n",
    "        sorted_samples_list_by_mutations = sorted(samples_lists, key=lambda x: x[2], reverse = True) #sort on the number of mutations e.g. if more than one mutation in a gene\n",
    "\n",
    "        evolutionary_patterns_dict_sorted_by_number_genes[k]=sorted_samples_list_by_genes\n",
    "        evolutionary_patterns_dict_sorted_by_number_mutations[k]=sorted_samples_list_by_mutations\n",
    "        \n",
    "    return evolutionary_patterns_dict_sorted_by_number_genes, evolutionary_patterns_dict_sorted_by_number_mutations"
   ]
  },
  {
   "cell_type": "markdown",
   "id": "1de6b996",
   "metadata": {},
   "source": [
    "# Plot the figure"
   ]
  },
  {
   "cell_type": "markdown",
   "id": "3bc56414",
   "metadata": {},
   "source": [
    "## Cases"
   ]
  },
  {
   "cell_type": "code",
   "execution_count": 30,
   "id": "b56a4462",
   "metadata": {
    "ExecuteTime": {
     "end_time": "2024-07-15T09:29:42.420579Z",
     "start_time": "2024-07-15T09:29:42.417441Z"
    }
   },
   "outputs": [],
   "source": [
    "cases_gene_list, cases_variants, cases_gene_counts = gene_mutation_incidence(case_trajectories)"
   ]
  },
  {
   "cell_type": "code",
   "execution_count": 31,
   "id": "ee30b477",
   "metadata": {
    "ExecuteTime": {
     "end_time": "2024-07-15T09:29:42.738717Z",
     "start_time": "2024-07-15T09:29:42.735742Z"
    }
   },
   "outputs": [],
   "source": [
    "cases_evol_patterns_sorted_genes, cases_evol_patterns_sorted_mutations = evolutionary_patterns_genes_mutations(cases_gene_list, cases_variants, case_evolutionary_patterns_dict)"
   ]
  },
  {
   "cell_type": "code",
   "execution_count": 32,
   "id": "003429af",
   "metadata": {
    "ExecuteTime": {
     "end_time": "2024-07-15T09:29:43.909158Z",
     "start_time": "2024-07-15T09:29:43.904563Z"
    }
   },
   "outputs": [],
   "source": [
    "for case in cases:\n",
    "    case_with_mutations = 0\n",
    "    for evol_pattern, sample_list in cases_evol_patterns_sorted_mutations.items():\n",
    "        for sample in sample_list:\n",
    "            if sample[0]==case:\n",
    "                case_with_mutations+=1\n",
    "    if case_with_mutations ==0:\n",
    "        cases_evol_patterns_sorted_mutations['Late'].append((case, 0, 0))\n",
    "        cases_evol_patterns_sorted_genes['Late'].append((case, 0, 0))"
   ]
  },
  {
   "cell_type": "code",
   "execution_count": 36,
   "id": "217bfc35",
   "metadata": {
    "ExecuteTime": {
     "end_time": "2024-07-15T09:30:11.484325Z",
     "start_time": "2024-07-15T09:30:06.987548Z"
    },
    "code_folding": [
     0
    ],
    "scrolled": false
   },
   "outputs": [
    {
     "data": {
      "image/png": "[encoded data removed]",
      "text/plain": [
       "<Figure size 734.4x1008 with 2 Axes>"
      ]
     },
     "metadata": {
      "needs_background": "light"
     },
     "output_type": "display_data"
    }
   ],
   "source": [
    "#plot the figure - cases\n",
    "fig, axes = plt.subplots(2, 1, figsize = (10.2, 14), sharex = True, gridspec_kw={'height_ratios': [1, 10]})\n",
    "plt.subplots_adjust(hspace=0.1)\n",
    "\n",
    "ax0 = axes[0]\n",
    "ax1 = axes[1]\n",
    "\n",
    "helvetica_6 = 18\n",
    "\n",
    "x = []\n",
    "y = []\n",
    "colors = []\n",
    "annotation = []\n",
    "\n",
    "x_bar = []\n",
    "y_bar = []\n",
    "c_bar = []\n",
    "\n",
    "n = 0\n",
    "for evol_type, samples_list in cases_evol_patterns_sorted_mutations.items():\n",
    "#     print(evol_type)\n",
    "    for sample_numbers in samples_list:\n",
    "#         print(sample_numbers)\n",
    "        n+=1\n",
    "        sample = sample_numbers[0]\n",
    "        number_genes_mutated = sample_numbers[1]\n",
    "        number_mutations = sample_numbers[2]\n",
    "        \n",
    "        if sample in cases_gene_list.keys():\n",
    "            sample_genes = cases_gene_list[sample]\n",
    "        else:\n",
    "            sample_genes = []\n",
    "            \n",
    "        if len(sample_genes)>0: #if the sample has a mutation\n",
    "            for gene_mutated in sample_genes:\n",
    "                mutation_ID = panel_list_dict[gene_mutated] #number assigned to the mutation (i.e. its y axis location)\n",
    "                mutation_class = mutation_classes[gene_mutated]\n",
    "                mutation_color = mutation_class_colors[mutation_class]\n",
    "                x.append(sample)\n",
    "                y.append(mutation_ID)\n",
    "                colors.append(mutation_color)\n",
    "                number_of_variants_in_gene = cases_gene_counts[sample][gene_mutated]\n",
    "                annotation.append(number_of_variants_in_gene)\n",
    "                \n",
    "\n",
    "        else: #if the sample doesn't have any mutations\n",
    "            x.append(sample)\n",
    "            y.append(panel_list_dict['no mutations'])\n",
    "            colors.append(grey2)\n",
    "            annotation.append(0)\n",
    "\n",
    "        x_bar.append(sample)\n",
    "        y_bar.append(number_mutations)\n",
    "        c_bar.append(grey2)\n",
    "        \n",
    "#         print(n)\n",
    "            \n",
    "ax0.bar(x_bar, y_bar, width = 0.9, color = c_bar) #histogram at top of plot\n",
    "            \n",
    "verts = list(zip([-2,2,2,-2],[-4,-4,4,4])) #rectangle to plot for each mutation\n",
    "            \n",
    "ax1.scatter(x, y, marker = verts, s = 250, color = colors)\n",
    "\n",
    "for sample, gene, number_variants in zip(x, y, annotation):\n",
    "    if number_variants>1:\n",
    "        ax1.annotate(str(number_variants), xy = (sample, gene), ha = 'center', va = 'center', color = 'white', weight='bold', fontsize = 14)\n",
    "\n",
    "ax1.set_yticks(list(panel_list_dict.values())) #number assigned to each gene (for y axis)\n",
    "ax1.set_yticklabels(list(panel_list_dict.keys())) #name of the gene\n",
    "\n",
    "ax1.set_xlim(-0.5, n-0.5)\n",
    "ax1.set_ylim(-0.5, len(panel_list_dict)-0.5)\n",
    "ax1.tick_params(labelsize = helvetica_6, axis = 'y')\n",
    "ax1.tick_params(axis = 'both', which='major', length=6, width=1.5, color = '#969696')\n",
    "ax1.tick_params(axis = 'both', which='minor', length=4, width=1.5, color = '#969696')\n",
    "\n",
    "ax0.set_ylim(0, 11)\n",
    "ax0.yaxis.set_major_locator(MultipleLocator(5))\n",
    "ax0.yaxis.set_minor_locator(MultipleLocator(1))\n",
    "ax0.tick_params(labelsize = helvetica_6, axis = 'y')\n",
    "ax0.set_ylabel('total \\nmutations', fontsize = helvetica_6)\n",
    "ax0.tick_params(axis = 'both', which='major', length=6, width=1.5, color = '#969696')\n",
    "ax0.tick_params(axis = 'both', which='minor', length=4, width=1.5, color = '#969696')\n",
    "\n",
    "for axis in ['top','right']:\n",
    "    ax0.spines[axis].set_visible(False)  \n",
    "    \n",
    "for axis in ['bottom','left']:\n",
    "    ax0.spines[axis].set_linewidth(1.5)\n",
    "    ax0.spines[axis].set_color('#969696')\n",
    "\n",
    "for axis in ['bottom','left', 'top', 'right']:\n",
    "    ax1.spines[axis].set_linewidth(1.5)\n",
    "    ax1.spines[axis].set_color('#969696')\n",
    "\n",
    "for i in range(-1, n):\n",
    "    for j in range(-1, len(panel_list_dict)):\n",
    "        ax1.plot([i+0.5, i+0.5], [-0.5, len(panel_list_dict)+0.5], color = 'white', lw = 3, zorder = 50)\n",
    "        ax1.plot([-0.5, n+0.5], [j+0.5, j+0.5], color = 'white', lw = 3, zorder = 50)\n",
    "        \n",
    "# for i in range(-1, n):\n",
    "#     for j in range(-1, len(panel_list_dict)):\n",
    "#         ax1.plot([i+0.5, i+0.5], [-0.5, len(panel_list_dict)+0.5], color = grey1, lw = 3, zorder = 50)\n",
    "#         ax1.plot([-0.5, n+0.5], [j+0.5, j+0.5], color = grey1, lw = 3, zorder = 50)\n",
    "        \n",
    "#divide up the gene categories\n",
    "linecolor_categories = grey3\n",
    "ax1.plot([-0.5, n+0.5], [-0.5, -0.5], color = linecolor_categories, lw = 2, zorder = 60)\n",
    "ax1.plot([-0.5, n+0.5], [0.5, 0.5], color = linecolor_categories, lw = 2, zorder = 60)\n",
    "ax1.plot([-0.5, n+0.5], [1.5, 1.5], color = linecolor_categories, lw = 2, zorder = 60)\n",
    "ax1.plot([-0.5, n+0.5], [11.5, 11.5], color = linecolor_categories, lw = 2, zorder = 60)\n",
    "ax1.plot([-0.5, n+0.5], [13.5, 13.5], color = linecolor_categories, lw = 2, zorder = 60)\n",
    "ax1.plot([-0.5, n+0.5], [17.5, 17.5], color = linecolor_categories, lw = 2, zorder = 60)\n",
    "ax1.plot([-0.5, n+0.5], [23.5, 23.5], color = linecolor_categories, lw = 2, zorder = 60)\n",
    "ax1.plot([-0.5, n+0.5], [25.5, 25.5], color = linecolor_categories, lw = 2, zorder = 60)\n",
    "ax1.plot([-0.5, n+0.5], [28.5, 28.5], color = linecolor_categories, lw = 2, zorder = 60)\n",
    "ax1.plot([-0.5, n+0.5], [30.5, 30.5], color = linecolor_categories, lw = 2, zorder = 60)\n",
    "ax1.plot([-0.5, n+0.5], [34.5, 34.5], color = linecolor_categories, lw = 2, zorder = 60)\n",
    "ax1.plot([-0.5, n+0.5], [35.5, 35.5], color = linecolor_categories, lw = 2, zorder = 60)\n",
    "        \n",
    "# ax1.xaxis.set_label_position('top') \n",
    "\n",
    "# ax0.set_xticks([])\n",
    "ax1.xaxis.set_ticks_position('bottom')\n",
    "plt.xticks(rotation=90) \n",
    "\n",
    "ax1.fill_between([-0.5, n+0.5], -0.5, len(panel_list_dict)+0.5, color = grey2, zorder = 0, alpha = 0.2)\n",
    "\n",
    "m = 0\n",
    "for k, v in cases_evol_patterns_sorted_mutations.items():\n",
    "    m+=len(v)\n",
    "    ax1.plot([m-0.5,m-0.5], [-0.5,n+0.5], color = grey5, lw = 2, zorder = 50)\n",
    "    \n",
    "plt.tight_layout()\n",
    "plt.show()"
   ]
  },
  {
   "cell_type": "markdown",
   "id": "7ae3e897",
   "metadata": {},
   "source": [
    "## Controls"
   ]
  },
  {
   "cell_type": "code",
   "execution_count": 37,
   "id": "af38cf4e",
   "metadata": {
    "ExecuteTime": {
     "end_time": "2024-07-15T09:30:14.742957Z",
     "start_time": "2024-07-15T09:30:14.740067Z"
    }
   },
   "outputs": [],
   "source": [
    "controls_gene_list, controls_variants, controls_gene_counts = gene_mutation_incidence(control_trajectories)"
   ]
  },
  {
   "cell_type": "code",
   "execution_count": 38,
   "id": "4fb3b73b",
   "metadata": {
    "ExecuteTime": {
     "end_time": "2024-07-15T09:30:14.989974Z",
     "start_time": "2024-07-15T09:30:14.986850Z"
    }
   },
   "outputs": [],
   "source": [
    "controls_evol_patterns_sorted_genes, controls_evol_patterns_sorted_mutations = evolutionary_patterns_genes_mutations(controls_gene_list, controls_variants, control_evolutionary_patterns_dict)"
   ]
  },
  {
   "cell_type": "code",
   "execution_count": 39,
   "id": "406fa505",
   "metadata": {
    "ExecuteTime": {
     "end_time": "2024-07-15T09:30:15.288666Z",
     "start_time": "2024-07-15T09:30:15.284271Z"
    }
   },
   "outputs": [],
   "source": [
    "for control in controls:\n",
    "    control_with_mutations = 0\n",
    "    for evol_pattern, sample_list in controls_evol_patterns_sorted_mutations.items():\n",
    "        for sample in sample_list:\n",
    "            if sample[0]==control:\n",
    "                control_with_mutations+=1\n",
    "    if control_with_mutations ==0:\n",
    "        controls_evol_patterns_sorted_mutations['Late'].append((control, 0, 0))\n",
    "        controls_evol_patterns_sorted_genes['Late'].append((control, 0, 0))"
   ]
  },
  {
   "cell_type": "code",
   "execution_count": 40,
   "id": "01a0d7a0",
   "metadata": {
    "ExecuteTime": {
     "end_time": "2024-07-15T09:30:29.900198Z",
     "start_time": "2024-07-15T09:30:25.382469Z"
    },
    "code_folding": [
     0
    ]
   },
   "outputs": [
    {
     "data": {
      "image/png": "[encoded data removed]",
      "text/plain": [
       "<Figure size 734.4x1008 with 2 Axes>"
      ]
     },
     "metadata": {
      "needs_background": "light"
     },
     "output_type": "display_data"
    }
   ],
   "source": [
    "#plot the figure - controls\n",
    "fig, axes = plt.subplots(2, 1, figsize = (10.2, 14), sharex = True, gridspec_kw={'height_ratios': [1, 10]})\n",
    "plt.subplots_adjust(hspace=0.1)\n",
    "\n",
    "ax0 = axes[0]\n",
    "ax1 = axes[1]\n",
    "\n",
    "x = []\n",
    "y = []\n",
    "colors = []\n",
    "annotation = []\n",
    "\n",
    "x_bar = []\n",
    "y_bar = []\n",
    "c_bar = []\n",
    "\n",
    "helvetica_6 = 18\n",
    "\n",
    "n = 0\n",
    "for evol_type, samples_list in controls_evol_patterns_sorted_mutations.items():\n",
    "#     print(evol_type)\n",
    "    for sample_numbers in samples_list:\n",
    "#         print(sample_numbers)\n",
    "        n+=1\n",
    "        sample = sample_numbers[0]\n",
    "        number_genes_mutated = sample_numbers[1]\n",
    "        number_mutations = sample_numbers[2]\n",
    "        \n",
    "        if sample in controls_gene_list.keys():\n",
    "            sample_genes = controls_gene_list[sample]\n",
    "        else:\n",
    "            sample_genes = []\n",
    "            \n",
    "        if len(sample_genes)>0: #if the sample has a mutation\n",
    "            for gene_mutated in sample_genes:\n",
    "                mutation_ID = panel_list_dict[gene_mutated] #number assigned to the mutation (i.e. its y axis location)\n",
    "                mutation_class = mutation_classes[gene_mutated]\n",
    "                mutation_color = mutation_class_colors[mutation_class]\n",
    "                x.append(sample)\n",
    "                y.append(mutation_ID)\n",
    "                colors.append(mutation_color)\n",
    "                number_of_variants_in_gene = controls_gene_counts[sample][gene_mutated]\n",
    "                annotation.append(number_of_variants_in_gene)\n",
    "                \n",
    "\n",
    "        else: #if the sample doesn't have any mutations\n",
    "            x.append(sample)\n",
    "            y.append(panel_list_dict['no mutations'])\n",
    "            colors.append(grey2)\n",
    "            annotation.append(0)\n",
    "\n",
    "        x_bar.append(sample)\n",
    "        y_bar.append(number_mutations)\n",
    "        c_bar.append(grey2)\n",
    "        \n",
    "#         print(n)\n",
    "            \n",
    "ax0.bar(x_bar, y_bar, width = 0.9, color = c_bar) #histogram at top of plot\n",
    "ax0.set_ylim(0, 11)\n",
    "            \n",
    "verts = list(zip([-2,2,2,-2],[-4,-4,4,4])) #rectangle to plot for each mutation\n",
    "            \n",
    "ax1.scatter(x, y, marker = verts, s = 250, color = colors)\n",
    "\n",
    "for sample, gene, number_variants in zip(x, y, annotation):\n",
    "    if number_variants>1:\n",
    "        ax1.annotate(str(number_variants), xy = (sample, gene), ha = 'center', va = 'center', color = 'white', weight='bold', fontsize = 14)\n",
    "\n",
    "ax1.set_yticks(list(panel_list_dict.values())) #number assigned to each gene (for y axis)\n",
    "ax1.set_yticklabels(list(panel_list_dict.keys())) #name of the gene\n",
    "\n",
    "ax1.set_xlim(-0.5, n-0.5)\n",
    "ax1.set_ylim(-0.5, len(panel_list_dict))\n",
    "ax1.tick_params(labelsize = helvetica_6, axis = 'y')\n",
    "ax1.tick_params(axis = 'both', which='major', length=6, width=1.5, color = '#969696')\n",
    "ax1.tick_params(axis = 'both', which='minor', length=4, width=1.5, color = '#969696')\n",
    "\n",
    "ax0.set_ylim(0, 11)\n",
    "ax0.yaxis.set_major_locator(MultipleLocator(5))\n",
    "ax0.yaxis.set_minor_locator(MultipleLocator(1))\n",
    "ax0.tick_params(labelsize = helvetica_6, axis = 'y')\n",
    "ax0.set_ylabel('total \\nmutations', fontsize = 15)\n",
    "ax0.tick_params(axis = 'both', which='major', length=6, width=1.5, color = '#969696')\n",
    "ax0.tick_params(axis = 'both', which='minor', length=4, width=1.5, color = '#969696')\n",
    "\n",
    "for axis in ['top','right']:\n",
    "    ax0.spines[axis].set_visible(False)  \n",
    "    \n",
    "for axis in ['bottom','left']:\n",
    "    ax0.spines[axis].set_linewidth(1.5)\n",
    "    ax0.spines[axis].set_color('#969696')\n",
    "\n",
    "for axis in ['bottom','left', 'top', 'right']:\n",
    "    ax1.spines[axis].set_linewidth(1.5)\n",
    "    ax1.spines[axis].set_color('#969696')\n",
    "\n",
    "for i in range(-1, n):\n",
    "    for j in range(-1, len(panel_list_dict)):\n",
    "        ax1.plot([i+0.5, i+0.5], [-0.5, len(panel_list_dict)+0.5], color = 'white', lw = 3, zorder = 50)\n",
    "        ax1.plot([-0.5, n+0.5], [j+0.5, j+0.5], color = 'white', lw = 3, zorder = 50)\n",
    "        \n",
    "#divide up the gene categories\n",
    "linecolor_categories = grey3\n",
    "ax1.plot([-0.5, n+0.5], [-0.5, -0.5], color = linecolor_categories, lw = 2, zorder = 60)\n",
    "ax1.plot([-0.5, n+0.5], [0.5, 0.5], color = linecolor_categories, lw = 2, zorder = 60)\n",
    "ax1.plot([-0.5, n+0.5], [1.5, 1.5], color = linecolor_categories, lw = 2, zorder = 60)\n",
    "ax1.plot([-0.5, n+0.5], [11.5, 11.5], color = linecolor_categories, lw = 2, zorder = 60)\n",
    "ax1.plot([-0.5, n+0.5], [13.5, 13.5], color = linecolor_categories, lw = 2, zorder = 60)\n",
    "ax1.plot([-0.5, n+0.5], [17.5, 17.5], color = linecolor_categories, lw = 2, zorder = 60)\n",
    "ax1.plot([-0.5, n+0.5], [23.5, 23.5], color = linecolor_categories, lw = 2, zorder = 60)\n",
    "ax1.plot([-0.5, n+0.5], [25.5, 25.5], color = linecolor_categories, lw = 2, zorder = 60)\n",
    "ax1.plot([-0.5, n+0.5], [28.5, 28.5], color = linecolor_categories, lw = 2, zorder = 60)\n",
    "ax1.plot([-0.5, n+0.5], [30.5, 30.5], color = linecolor_categories, lw = 2, zorder = 60)\n",
    "ax1.plot([-0.5, n+0.5], [34.5, 34.5], color = linecolor_categories, lw = 2, zorder = 60)\n",
    "ax1.plot([-0.5, n+0.5], [35.5, 35.5], color = linecolor_categories, lw = 2, zorder = 60)\n",
    "        \n",
    "# ax1.xaxis.set_label_position('top') \n",
    "\n",
    "# ax0.set_xticks([])\n",
    "ax1.xaxis.set_ticks_position('bottom')\n",
    "plt.xticks(rotation=90) \n",
    "\n",
    "ax1.fill_between([-0.5, n+0.5], -0.5, len(panel_list_dict)+0.5, color = grey2, zorder = 0, alpha = 0.2)\n",
    "\n",
    "m = 0\n",
    "for k, v in controls_evol_patterns_sorted_mutations.items():\n",
    "    m+=len(v)\n",
    "    ax1.plot([m-0.5,m-0.5], [-0.5,n+0.5], color = grey5, lw = 2, zorder = 50)\n",
    "    \n",
    "plt.tight_layout()\n",
    "plt.show()"
   ]
  }
 ],
 "metadata": {
  "kernelspec": {
   "display_name": "Python 3 (ipykernel)",
   "language": "python",
   "name": "python3"
  },
  "language_info": {
   "codemirror_mode": {
    "name": "ipython",
    "version": 3
   },
   "file_extension": ".py",
   "mimetype": "text/x-python",
   "name": "python",
   "nbconvert_exporter": "python",
   "pygments_lexer": "ipython3",
   "version": "3.7.4"
  },
  "toc": {
   "base_numbering": 1,
   "nav_menu": {},
   "number_sections": true,
   "sideBar": true,
   "skip_h1_title": false,
   "title_cell": "Table of Contents",
   "title_sidebar": "Contents",
   "toc_cell": true,
   "toc_position": {},
   "toc_section_display": true,
   "toc_window_display": true
  }
 },
 "nbformat": 4,
 "nbformat_minor": 5
}
