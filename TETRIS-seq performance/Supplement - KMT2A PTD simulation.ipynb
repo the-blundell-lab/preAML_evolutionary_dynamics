{
 "cells": [
  {
   "cell_type": "markdown",
   "id": "5f13a60d",
   "metadata": {
    "toc": true
   },
   "source": [
    "<h1>Table of Contents<span class=\"tocSkip\"></span></h1>\n",
    "<div class=\"toc\"><ul class=\"toc-item\"><li><span><a href=\"#KMT2A-PTD-at-10%-cell-fraction\" data-toc-modified-id=\"KMT2A-PTD-at-10%-cell-fraction-1\"><span class=\"toc-item-num\">1&nbsp;&nbsp;</span>KMT2A-PTD at 10% cell fraction</a></span></li><li><span><a href=\"#KMT2A-PTD-at-100%-cell-fraction\" data-toc-modified-id=\"KMT2A-PTD-at-100%-cell-fraction-2\"><span class=\"toc-item-num\">2&nbsp;&nbsp;</span>KMT2A-PTD at 100% cell fraction</a></span></li></ul></div>"
   ]
  },
  {
   "cell_type": "code",
   "execution_count": 1,
   "id": "29e5033a",
   "metadata": {
    "ExecuteTime": {
     "end_time": "2024-07-15T17:30:16.321084Z",
     "start_time": "2024-07-15T17:30:16.305504Z"
    }
   },
   "outputs": [
    {
     "data": {
      "text/html": [
       "<style>.container { width:80% !important; }</style>"
      ],
      "text/plain": [
       "<IPython.core.display.HTML object>"
      ]
     },
     "metadata": {},
     "output_type": "display_data"
    }
   ],
   "source": [
    "from IPython.core.display import display, HTML\n",
    "display(HTML(\"<style>.container { width:80% !important; }</style>\"))"
   ]
  },
  {
   "cell_type": "code",
   "execution_count": 27,
   "id": "9081a890",
   "metadata": {
    "ExecuteTime": {
     "end_time": "2024-07-15T17:33:32.628729Z",
     "start_time": "2024-07-15T17:33:32.625702Z"
    }
   },
   "outputs": [],
   "source": [
    "# import packages\n",
    "import csv\n",
    "import matplotlib\n",
    "import matplotlib.pyplot as plt}\n",
    "from matplotlib.lines import Line2D"
   ]
  },
  {
   "cell_type": "code",
   "execution_count": 3,
   "id": "ed267a0b",
   "metadata": {
    "ExecuteTime": {
     "end_time": "2024-07-15T17:30:36.464458Z",
     "start_time": "2024-07-15T17:30:36.459265Z"
    }
   },
   "outputs": [],
   "source": [
    "c0 = (0.76, 0.76, 0.76)\n",
    "c1 = (1.00, 0.18, 0.33);\n",
    "c2 = (1.00, 0.23, 0.19);\n",
    "c3 = (1.00, 0.58, 0.00);\n",
    "c4 = (1.00, 0.80, 0.00);\n",
    "c5 = (0.30, 0.85, 0.39);\n",
    "c6 = (0.35, 0.78, 0.98);\n",
    "c7 = (0.20, 0.67, 0.86);\n",
    "c8 = (0.00, 0.48, 1.00);\n",
    "c9 = (0.35, 0.34, 0.84);\n",
    "c10 = (0.00, 0.31, 0.57);\n",
    "c11 = (0.12, 0.29, 0.69);\n",
    "c12 = (0.17, 0.17, 0.42);\n",
    "c13 = (1.00, 1.00, 1.00);\n",
    "c14 = (0.77, 0.04, 0.00);"
   ]
  },
  {
   "cell_type": "code",
   "execution_count": 4,
   "id": "a4bb457b",
   "metadata": {
    "ExecuteTime": {
     "end_time": "2024-07-15T17:30:37.727884Z",
     "start_time": "2024-07-15T17:30:37.722247Z"
    },
    "code_folding": [
     0
    ]
   },
   "outputs": [],
   "source": [
    "#define the colors from colorbrewer2\n",
    "orange1 = '#feedde'\n",
    "orange2 = '#fdbe85'\n",
    "orange3 = '#fd8d3c'\n",
    "orange4 = '#e6550d'\n",
    "orange5 = '#a63603'\n",
    "blue1 = '#eff3ff'\n",
    "blue2 = '#bdd7e7'\n",
    "blue3 = '#6baed6'\n",
    "blue4 = '#3182bd'\n",
    "blue5 = '#08519c'\n",
    "green1 = '#edf8e9'\n",
    "green2 = '#bae4b3'\n",
    "green3 = '#74c476'\n",
    "green4 = '#31a354'\n",
    "green5 = '#006d2c'\n",
    "grey1 = '#f7f7f7'\n",
    "grey2 = '#cccccc'\n",
    "grey3 = '#969696'\n",
    "grey4 = '#636363'\n",
    "grey5 = '#252525'\n",
    "purple1 = '#f2f0f7'\n",
    "purple2 = '#cbc9e2'\n",
    "purple3 = '#9e9ac8'\n",
    "purple4 = '#756bb1'\n",
    "purple5 = '#54278f'\n",
    "red1 = '#fee5d9'\n",
    "red2 = '#fcae91'\n",
    "red3 = '#fb6a4a'\n",
    "red4 = '#de2d26'\n",
    "red5 = '#a50f15'\n",
    "# yellow = '#ffffd4'"
   ]
  },
  {
   "cell_type": "code",
   "execution_count": 10,
   "id": "a1f8c0c0",
   "metadata": {
    "ExecuteTime": {
     "end_time": "2024-07-15T17:32:28.305623Z",
     "start_time": "2024-07-15T17:32:28.301205Z"
    },
    "code_folding": [
     0
    ]
   },
   "outputs": [],
   "source": [
    "def KMT2A_coordinates_dict(KMT2A_coords):\n",
    "    with open(KMT2A_coords, 'r') as csvfile:\n",
    "        read_reader = csv.reader(csvfile)  #csv.reader returns a reader object which will iterate over lines in the csvfile\n",
    "        row_count = 0\n",
    "        KMT2A_coordinates = {}\n",
    "\n",
    "        for row in read_reader:\n",
    "            if row_count > 0:\n",
    "                exon_intron = row[0]\n",
    "                start = int(row[1])\n",
    "                end = int(row[2])\n",
    "                if exon_intron[0]=='E':\n",
    "                    part = 'exon'\n",
    "                else:\n",
    "                    part = 'intron'\n",
    "                KMT2A_coordinates[exon_intron]=(part, start, end)\n",
    "            row_count+=1\n",
    "\n",
    "    return KMT2A_coordinates"
   ]
  },
  {
   "cell_type": "code",
   "execution_count": 12,
   "id": "633655eb",
   "metadata": {
    "ExecuteTime": {
     "end_time": "2024-07-15T17:32:34.628885Z",
     "start_time": "2024-07-15T17:32:34.623807Z"
    },
    "code_folding": [
     0
    ]
   },
   "outputs": [],
   "source": [
    "def KMT2A_panel_positions_list(KMT2A_coordinates, panel_bed, KMT2A_chromosome, KMT2A_start, KMT2A_stop):\n",
    "    with open(panel_bed, 'r') as bedfile:\n",
    "        read_reader = csv.reader(bedfile, delimiter = '\\t')  #csv.reader returns a reader object which will iterate over lines in the csvfile\n",
    "        row_count = 0\n",
    "        KMT2A_panel_positions = []\n",
    "\n",
    "        for row in read_reader:\n",
    "            if row_count > 2:\n",
    "                chromosome = row[0]\n",
    "                start = int(row[1])\n",
    "                stop = int(row[2])\n",
    "                if chromosome == KMT2A_chromosome:\n",
    "                    if start <  KMT2A_stop and stop > KMT2A_start:\n",
    "                        for k, v in KMT2A_coordinates.items():\n",
    "                            intron_exon_start = v[1]\n",
    "                            intron_exon_stop = v[2]\n",
    "                            region = k\n",
    "                            if start < intron_exon_stop and stop > intron_exon_start:\n",
    "                                KMT2A_panel_positions.append((chromosome, start, stop, region))\n",
    "\n",
    "            row_count+=1\n",
    "\n",
    "    return KMT2A_panel_positions"
   ]
  },
  {
   "cell_type": "code",
   "execution_count": 13,
   "id": "e64e7710",
   "metadata": {
    "ExecuteTime": {
     "end_time": "2024-07-15T17:32:38.167214Z",
     "start_time": "2024-07-15T17:32:38.161644Z"
    },
    "code_folding": [
     0
    ]
   },
   "outputs": [],
   "source": [
    "def KMT2A_panel_coverage(panel_bed):\n",
    "    #panel coverage\n",
    "    with open(panel_bed, 'r') as textfile:\n",
    "        read_reader = csv.reader(textfile, delimiter = '\\t')  #csv.reader returns a reader object which will iterate over lines in the csvfile\n",
    "        row_count = 0\n",
    "        panel_coverage = {}\n",
    "        for row in read_reader:\n",
    "            if row_count > 2:\n",
    "                chromosome = row[0]\n",
    "                start = int(row[1]) #start position of that part of the chromosome\n",
    "                end = int(row[2]) #end position of that part of the chromosome\n",
    "\n",
    "                if chromosome in panel_coverage.keys():\n",
    "                    panel_coverage[chromosome].append((start, end))\n",
    "                else:\n",
    "                    panel_coverage[chromosome]=([(start, end)])\n",
    "\n",
    "            row_count+=1\n",
    "\n",
    "    return panel_coverage"
   ]
  },
  {
   "cell_type": "code",
   "execution_count": 14,
   "id": "315c3c98",
   "metadata": {
    "ExecuteTime": {
     "end_time": "2024-07-15T17:32:38.483480Z",
     "start_time": "2024-07-15T17:32:38.477451Z"
    },
    "code_folding": [
     0
    ]
   },
   "outputs": [],
   "source": [
    "def KMT2A_ideogram(KMT2A_coordinates):\n",
    "    color_lookup = {'exon': '#cab2d6', 'intron': 'white'}\n",
    "\n",
    "    xranges = []\n",
    "    colors = []\n",
    "    mid_points = []\n",
    "    labels = []\n",
    "\n",
    "    for k, v in KMT2A_coordinates.items():\n",
    "        start = int(v[1])\n",
    "        stop = int(v[2])\n",
    "        label = k.split()[1]\n",
    "        intron_or_exon = v[0]\n",
    "        width = stop - start\n",
    "        mid_point = start + (width/2)\n",
    "        xranges.append((start, width))\n",
    "        colors.append(color_lookup[intron_or_exon])\n",
    "        if intron_or_exon == 'exon':\n",
    "\n",
    "            mid_points.append(mid_point)\n",
    "            labels.append(label)\n",
    "\n",
    "    return xranges, [0, 1.0], colors, mid_points, labels"
   ]
  },
  {
   "cell_type": "code",
   "execution_count": 23,
   "id": "0b722a9d",
   "metadata": {
    "ExecuteTime": {
     "end_time": "2024-07-15T17:33:12.459212Z",
     "start_time": "2024-07-15T17:33:12.452825Z"
    },
    "code_folding": [
     0
    ]
   },
   "outputs": [],
   "source": [
    "def plot_gene(KMT2A_coordinates, ax):\n",
    "\n",
    "    xranges, yrange, colors, midpoints, labels = KMT2A_ideogram(KMT2A_coordinates)\n",
    "\n",
    "    ax.broken_barh(xranges, yrange, facecolors= colors, edgecolor = 'black')\n",
    "\n",
    "    ax.set_xticks(midpoints)\n",
    "    ax.set_xticklabels(labels, rotation = 0, fontsize = 12)\n",
    "    ax.set_yticks([])\n",
    "    ax.text(-0.013, 0.35, 'KMT2A', transform=ax.transAxes, fontsize = 15, ha = 'right')\n",
    "    ax.text(-0.013, -0.55, 'exons:', transform=ax.transAxes, fontsize = 12, ha = 'right')\n",
    "    ax.xaxis.set_tick_params(width=0.8, color = grey3, length = 6)\n",
    "\n",
    "    ax.minorticks_off()\n",
    "\n",
    "    ax.spines['left'].set_visible(False)\n",
    "    ax.spines['bottom'].set_visible(False)\n",
    "\n",
    "    return ax"
   ]
  },
  {
   "cell_type": "code",
   "execution_count": 25,
   "id": "77ac7f74",
   "metadata": {
    "ExecuteTime": {
     "end_time": "2024-07-15T17:33:18.323810Z",
     "start_time": "2024-07-15T17:33:18.318767Z"
    },
    "code_folding": [
     0
    ]
   },
   "outputs": [],
   "source": [
    "def plot_regions_targeted_by_panel(panel_coverage, ax, y_max):\n",
    "\n",
    "    regions_covered = panel_coverage['chr11']\n",
    "\n",
    "    for positions in regions_covered:\n",
    "        start_position = positions[0]\n",
    "        stop_position = positions[1]\n",
    "\n",
    "        bottom = 0\n",
    "        top = y_max\n",
    "\n",
    "        x = [start_position, start_position, stop_position, stop_position]\n",
    "        y = [bottom, top, top, bottom]\n",
    "        ax.fill(x, y, color= '#deebf7', fill = True, alpha = 1.0, linewidth = 1, zorder = 0) #fill in the box with stars\n",
    "\n",
    "    return ax"
   ]
  },
  {
   "cell_type": "code",
   "execution_count": 30,
   "id": "7a514362",
   "metadata": {
    "ExecuteTime": {
     "end_time": "2024-07-15T17:34:40.463142Z",
     "start_time": "2024-07-15T17:34:40.457000Z"
    },
    "code_folding": [
     0
    ]
   },
   "outputs": [],
   "source": [
    "def read_depths_cell_fraction(cell_fraction, exons_involved, KMT2A_panel_positions):\n",
    "    \n",
    "    normal_cell_fraction = 1-cell_fraction\n",
    "    \n",
    "    mean_read_depth = (1.5*cell_fraction)+(normal_cell_fraction) #multiply by 1.5 because there are 2 copies of KMT2A-PTD per cell so if one is duplicated, the total number in the cell will be 1.5x normal\n",
    "    \n",
    "    mean_intron_exon_depths = {}\n",
    "    for region in KMT2A_panel_positions: #iterate over each of the probe regions in the panel...\n",
    "        chromosome = region[0]\n",
    "        start = region[1]\n",
    "        stop = region[2]\n",
    "        intron_exon = region[3]\n",
    "        if intron_exon in exons_involved:\n",
    "            mean_intron_exon_depths[(intron_exon, start, stop)]=mean_read_depth\n",
    "        else:\n",
    "            mean_intron_exon_depths[(intron_exon, start, stop)]=1\n",
    "    \n",
    "#     print(mean_intron_exon_depths)\n",
    "\n",
    "    exon3_27ratio = mean_intron_exon_depths[('Exon 3', 118342376, 118345030)]/mean_intron_exon_depths[('Exon 27', 118373112, 118377361)]\n",
    "\n",
    "    print('exon 3:27 ratio = ', exon3_27ratio)\n",
    "    \n",
    "    return mean_intron_exon_depths, exon3_27ratio"
   ]
  },
  {
   "cell_type": "code",
   "execution_count": 31,
   "id": "b72adbcf",
   "metadata": {
    "ExecuteTime": {
     "end_time": "2024-07-15T17:34:40.859364Z",
     "start_time": "2024-07-15T17:34:40.842316Z"
    },
    "code_folding": [
     0
    ]
   },
   "outputs": [],
   "source": [
    "def read_depths_plot(KMT2A_start, KMT2A_stop, KMT2A_coordinates, panel_coverage, cell_fraction, exons_involved, KMT2A_panel_positions):\n",
    "    plt.close('all')\n",
    "    f, (ax1, ax2) = plt.subplots(2, 1, sharey=False, sharex = True, figsize=(12, 4))\n",
    "    gs = matplotlib.gridspec.GridSpec(2, 1, width_ratios=[1], height_ratios=[10,1.5])\n",
    "    ax1 = plt.subplot(gs[0])\n",
    "    ax2 = plt.subplot(gs[1])\n",
    "    gs.update(hspace=0.05)\n",
    "\n",
    "    m_size = 100\n",
    "    axisfont=15\n",
    "    titlefont=15\n",
    "    axislabelfont=15\n",
    "    exonfont=12\n",
    "    \n",
    "    mean_intron_exon_depths, exon3_27ratio = read_depths_cell_fraction(cell_fraction, exons_involved, KMT2A_panel_positions)\n",
    "\n",
    "    y_max = 1.75\n",
    "\n",
    "    ax1.plot([KMT2A_start-500, KMT2A_stop+500], [1, 1], color = grey3, lw = 2, linestyle = ':')\n",
    "\n",
    "    #gene IDEOGRAM\n",
    "    plot_gene(KMT2A_coordinates, ax2)\n",
    "\n",
    "    #REGIONS COVERED BY PANEL:\n",
    "    plot_regions_targeted_by_panel(panel_coverage, ax1, y_max)\n",
    "\n",
    "    #PLOT MEAN DEPTH ACROSS EACH EXON:\n",
    "    for k, v in mean_intron_exon_depths.items():\n",
    "        if k[0].split(' ')[0] == 'Exon':\n",
    "            ax1.plot([k[1], k[2]], [v, v], color = c1, lw = 5)\n",
    "            \n",
    "    ax1.plot([KMT2A_start-500, KMT2A_stop+500], [exon3_27ratio, exon3_27ratio], color = c1, lw = 2, linestyle = ':')\n",
    "    \n",
    "    # CONFIGURING THE GRAPH APPEARANCE\n",
    "    #Set the x and y axis limits\n",
    "    ax1.set_xlim(KMT2A_start-500, KMT2A_stop+500)\n",
    "    ax2.set_xlim(KMT2A_start-500, KMT2A_stop+500)\n",
    "    ax1.set_ylim(0.25, y_max)\n",
    "\n",
    "    #x-axis ticks\n",
    "    x1_major_ticks = []\n",
    "    x1_major_tick_labels = []\n",
    "    ax1.set_xticks(x1_major_ticks)\n",
    "    ax1.set_xticklabels(x1_major_tick_labels, fontsize = axisfont)\n",
    "\n",
    "    ax1.tick_params(axis='y', which='major', labelsize=13)\n",
    "\n",
    "    #Only show the required axis lines\n",
    "    ax1.spines['top'].set_visible(False)\n",
    "    ax1.spines['right'].set_visible(False)\n",
    "    ax1.spines['bottom'].set_visible(False)\n",
    "    ax1.spines['left'].set_visible(True)\n",
    "\n",
    "    ax2.spines['top'].set_visible(False)\n",
    "    ax2.spines['right'].set_visible(False)\n",
    "    ax2.spines['bottom'].set_visible(False)\n",
    "    ax2.spines['left'].set_visible(False)\n",
    "\n",
    "    for axis in ['left']:\n",
    "        ax1.spines[axis].set_linewidth(1.5)\n",
    "        ax1.spines[axis].set_color('#969696')\n",
    "    ax1.yaxis.set_tick_params(width=1, color = '#969696', length = 6)\n",
    "\n",
    "    legend_elements = [Line2D([0], [0], marker = 's', color='#deebf7', alpha=1.0, markersize = 12, \\\n",
    "                      lw=0, label='regions covered by TWIST CNV panel'),\\\n",
    "                  Line2D([0], [0], marker = '.', color=c1, alpha=1.0, markersize = 0, \\\n",
    "                      lw=3, label='mean normalised read depth across exon')]\n",
    "\n",
    "    ax1.legend(ncol=2, handles=legend_elements, loc='center', bbox_to_anchor=(0.5, 1.09), fontsize = 13)\n",
    "\n",
    "    #Title and axis labels\n",
    "#     ax1.set_title('Read depths (normalised to exon 27) across KMT2A', y=1.125, fontsize = titlefont, fontweight='bold')\n",
    "    ax1.set_ylabel('normalised read depth', fontsize = axislabelfont)\n",
    "\n",
    "    ax1.text(0.01, 0.95, 'exon 3: exon 27 depth ratio = '+str(round(exon3_27ratio, 2)), transform=ax1.transAxes, fontsize = 14, ha = 'left')\n",
    "    ax1.text(0.985, 1.0, 'cell fraction: '+str(int(cell_fraction*100))+'%', transform = ax1.transAxes, fontsize = 14, ha = 'right', va = 'top')\n",
    "\n",
    "    plt.tight_layout()\n",
    "    \n",
    "    return plt.show() "
   ]
  },
  {
   "cell_type": "code",
   "execution_count": 32,
   "id": "5cd1d0a3",
   "metadata": {
    "ExecuteTime": {
     "end_time": "2024-07-15T17:34:41.268858Z",
     "start_time": "2024-07-15T17:34:41.266374Z"
    }
   },
   "outputs": [],
   "source": [
    "KMT2A_coords = 'Data_files/KMT2A_coordinates_hg19.csv'\n",
    "panel_bed = 'Data_files/TWIST_CNV_panel_TE-95031423_h19.bed'\n",
    "\n",
    "KMT2A_chromosome = 'chr11'\n",
    "KMT2A_start = 118339490\n",
    "KMT2A_stop = 118377361"
   ]
  },
  {
   "cell_type": "code",
   "execution_count": 33,
   "id": "596aa76a",
   "metadata": {
    "ExecuteTime": {
     "end_time": "2024-07-15T17:34:41.980592Z",
     "start_time": "2024-07-15T17:34:41.947559Z"
    }
   },
   "outputs": [],
   "source": [
    "KMT2A_coordinates = KMT2A_coordinates_dict(KMT2A_coords)\n",
    "KMT2A_panel_positions = KMT2A_panel_positions_list(KMT2A_coordinates, panel_bed, KMT2A_chromosome, KMT2A_start, KMT2A_stop)\n",
    "panel_coverage = KMT2A_panel_coverage(panel_bed)\n",
    "KMT2A_intron_exon_positions = KMT2A_ideogram(KMT2A_coordinates)"
   ]
  },
  {
   "cell_type": "markdown",
   "id": "c3e05676",
   "metadata": {},
   "source": [
    "# KMT2A-PTD at 10% cell fraction"
   ]
  },
  {
   "cell_type": "code",
   "execution_count": 34,
   "id": "6ba8ff3a",
   "metadata": {
    "ExecuteTime": {
     "end_time": "2024-07-15T17:34:43.144606Z",
     "start_time": "2024-07-15T17:34:42.388151Z"
    }
   },
   "outputs": [
    {
     "name": "stdout",
     "output_type": "stream",
     "text": [
      "exon 3:27 ratio =  1.05\n"
     ]
    },
    {
     "name": "stderr",
     "output_type": "stream",
     "text": [
      "/opt/anaconda3/lib/python3.7/site-packages/ipykernel_launcher.py:78: UserWarning: This figure includes Axes that are not compatible with tight_layout, so results might be incorrect.\n"
     ]
    },
    {
     "data": {
      "image/png": "[encoded data removed]",
      "text/plain": [
       "<Figure size 864x288 with 2 Axes>"
      ]
     },
     "metadata": {
      "needs_background": "light"
     },
     "output_type": "display_data"
    }
   ],
   "source": [
    "read_depths_plot(KMT2A_start, KMT2A_stop, KMT2A_coordinates, panel_coverage, 0.1, ['Exon 3', 'Exon 4', 'Exon 5', 'Exon 6', 'Exon 7', 'Exon 8', 'Exon 9', 'Exon 10'], KMT2A_panel_positions)"
   ]
  },
  {
   "cell_type": "markdown",
   "id": "70e81608",
   "metadata": {},
   "source": [
    "# KMT2A-PTD at 100% cell fraction"
   ]
  },
  {
   "cell_type": "code",
   "execution_count": 35,
   "id": "55a513ca",
   "metadata": {
    "ExecuteTime": {
     "end_time": "2024-07-15T17:35:13.572699Z",
     "start_time": "2024-07-15T17:35:12.724579Z"
    }
   },
   "outputs": [
    {
     "name": "stdout",
     "output_type": "stream",
     "text": [
      "exon 3:27 ratio =  1.5\n"
     ]
    },
    {
     "name": "stderr",
     "output_type": "stream",
     "text": [
      "/opt/anaconda3/lib/python3.7/site-packages/ipykernel_launcher.py:78: UserWarning: This figure includes Axes that are not compatible with tight_layout, so results might be incorrect.\n"
     ]
    },
    {
     "data": {
      "image/png": "[encoded data removed]",
      "text/plain": [
       "<Figure size 864x288 with 2 Axes>"
      ]
     },
     "metadata": {
      "needs_background": "light"
     },
     "output_type": "display_data"
    }
   ],
   "source": [
    "read_depths_plot(KMT2A_start, KMT2A_stop, KMT2A_coordinates, panel_coverage, 1.0, ['Exon 3', 'Exon 4', 'Exon 5', 'Exon 6', 'Exon 7', 'Exon 8', 'Exon 9', 'Exon 10'], KMT2A_panel_positions)"
   ]
  }
 ],
 "metadata": {
  "kernelspec": {
   "display_name": "Python 3 (ipykernel)",
   "language": "python",
   "name": "python3"
  },
  "language_info": {
   "codemirror_mode": {
    "name": "ipython",
    "version": 3
   },
   "file_extension": ".py",
   "mimetype": "text/x-python",
   "name": "python",
   "nbconvert_exporter": "python",
   "pygments_lexer": "ipython3",
   "version": "3.7.4"
  },
  "toc": {
   "base_numbering": 1,
   "nav_menu": {},
   "number_sections": true,
   "sideBar": true,
   "skip_h1_title": false,
   "title_cell": "Table of Contents",
   "title_sidebar": "Contents",
   "toc_cell": true,
   "toc_position": {},
   "toc_section_display": true,
   "toc_window_display": true
  }
 },
 "nbformat": 4,
 "nbformat_minor": 5
}
