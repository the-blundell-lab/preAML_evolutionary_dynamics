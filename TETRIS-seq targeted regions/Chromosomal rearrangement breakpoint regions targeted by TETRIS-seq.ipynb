{
 "cells": [
  {
   "cell_type": "markdown",
   "metadata": {
    "toc": true
   },
   "source": [
    "<h1>Table of Contents<span class=\"tocSkip\"></span></h1>\n",
    "<div class=\"toc\"><ul class=\"toc-item\"></ul></div>"
   ]
  },
  {
   "cell_type": "code",
   "execution_count": 1,
   "metadata": {
    "ExecuteTime": {
     "end_time": "2024-07-15T11:32:41.951903Z",
     "start_time": "2024-07-15T11:32:41.936786Z"
    }
   },
   "outputs": [
    {
     "data": {
      "text/html": [
       "<style>.container { width:80% !important; }</style>"
      ],
      "text/plain": [
       "<IPython.core.display.HTML object>"
      ]
     },
     "metadata": {},
     "output_type": "display_data"
    }
   ],
   "source": [
    "from IPython.core.display import display, HTML\n",
    "display(HTML(\"<style>.container { width:80% !important; }</style>\"))"
   ]
  },
  {
   "cell_type": "code",
   "execution_count": 37,
   "metadata": {
    "ExecuteTime": {
     "end_time": "2024-07-15T11:36:50.218607Z",
     "start_time": "2024-07-15T11:36:50.215817Z"
    }
   },
   "outputs": [],
   "source": [
    "#import packages\n",
    "import matplotlib\n",
    "import matplotlib.pyplot as plt\n",
    "from matplotlib.lines import Line2D\n",
    "import csv"
   ]
  },
  {
   "cell_type": "code",
   "execution_count": 3,
   "metadata": {
    "ExecuteTime": {
     "end_time": "2024-07-15T11:32:45.685911Z",
     "start_time": "2024-07-15T11:32:45.680155Z"
    }
   },
   "outputs": [],
   "source": [
    "c0 = (0.76, 0.76, 0.76)\n",
    "c1 = (1.00, 0.18, 0.33);\n",
    "c2 = (1.00, 0.23, 0.19);\n",
    "c3 = (1.00, 0.58, 0.00);\n",
    "c4 = (1.00, 0.80, 0.00);\n",
    "c5 = (0.30, 0.85, 0.39);\n",
    "c6 = (0.35, 0.78, 0.98);\n",
    "c7 = (0.20, 0.67, 0.86);\n",
    "c8 = (0.00, 0.48, 1.00);\n",
    "c9 = (0.35, 0.34, 0.84);\n",
    "c10 = (0.00, 0.31, 0.57);\n",
    "c11 = (0.12, 0.29, 0.69);\n",
    "c12 = (0.17, 0.17, 0.42);\n",
    "c13 = (1.00, 1.00, 1.00);\n",
    "c14 = (0.77, 0.04, 0.00);"
   ]
  },
  {
   "cell_type": "code",
   "execution_count": 4,
   "metadata": {
    "ExecuteTime": {
     "end_time": "2024-07-15T11:32:46.135000Z",
     "start_time": "2024-07-15T11:32:46.129968Z"
    }
   },
   "outputs": [],
   "source": [
    "orange1 = '#feedde'\n",
    "orange2 = '#fdbe85'\n",
    "orange3 = '#fd8d3c'\n",
    "orange4 = '#e6550d'\n",
    "orange5 = '#a63603'\n",
    "blue1 = '#eff3ff'\n",
    "blue2 = '#bdd7e7'\n",
    "blue3 = '#6baed6'\n",
    "blue4 = '#3182bd'\n",
    "blue5 = '#08519c'\n",
    "green1 = '#edf8e9'\n",
    "green2 = '#bae4b3'\n",
    "green3 = '#74c476'\n",
    "green4 = '#31a354'\n",
    "green5 = '#006d2c'\n",
    "grey1 = '#f7f7f7'\n",
    "grey2 = '#cccccc'\n",
    "grey3 = '#969696'\n",
    "grey4 = '#636363'\n",
    "grey5 = '#252525'\n",
    "purple1 = '#f2f0f7'\n",
    "purple2 = '#cbc9e2'\n",
    "purple3 = '#9e9ac8'\n",
    "purple4 = '#756bb1'\n",
    "purple5 = '#54278f'\n",
    "red1 = '#fee5d9'\n",
    "red2 = '#fcae91'\n",
    "red3 = '#fb6a4a'\n",
    "red4 = '#de2d26'\n",
    "red5 = '#a50f15'"
   ]
  },
  {
   "cell_type": "code",
   "execution_count": 11,
   "metadata": {
    "ExecuteTime": {
     "end_time": "2024-07-15T11:35:18.556033Z",
     "start_time": "2024-07-15T11:35:18.551101Z"
    },
    "code_folding": [
     0
    ]
   },
   "outputs": [],
   "source": [
    "def region_panel_positions_list(region_coordinates, panel_bed, region_chromosome, region_start, region_stop):\n",
    "    with open(panel_bed, 'r') as bedfile:\n",
    "        read_reader = csv.reader(bedfile, delimiter = '\\t')  #csv.reader returns a reader object which will iterate over lines in the csvfile\n",
    "        row_count = 0\n",
    "        region_panel_positions = []\n",
    "\n",
    "        for row in read_reader:\n",
    "            if row_count > 2:\n",
    "                chromosome = row[0]\n",
    "                start = int(row[1])\n",
    "                stop = int(row[2])\n",
    "                if chromosome == region_chromosome:\n",
    "                    if start <  region_stop and stop > region_start:\n",
    "                        for k, v in region_coordinates.items():\n",
    "                            intron_exon_start = v[1]\n",
    "                            intron_exon_stop = v[2]\n",
    "                            region = k\n",
    "                            if start < intron_exon_stop and stop > intron_exon_start:\n",
    "                                region_panel_positions.append((chromosome, start, stop, region))\n",
    "\n",
    "            row_count+=1\n",
    "\n",
    "    return region_panel_positions"
   ]
  },
  {
   "cell_type": "code",
   "execution_count": 6,
   "metadata": {
    "ExecuteTime": {
     "end_time": "2024-07-15T11:35:03.952594Z",
     "start_time": "2024-07-15T11:35:03.947526Z"
    },
    "code_folding": [
     0
    ]
   },
   "outputs": [],
   "source": [
    "def panel_coverage_dict(panel_bed):\n",
    "    #panel coverage\n",
    "    with open(panel_bed, 'r') as textfile:\n",
    "        read_reader = csv.reader(textfile, delimiter = '\\t')  #csv.reader returns a reader object which will iterate over lines in the csvfile\n",
    "        row_count = 0\n",
    "        panel_coverage = {}\n",
    "        for row in read_reader:\n",
    "            if row_count > 2:\n",
    "                chromosome = row[0]\n",
    "                start = int(row[1]) #start position of that part of the chromosome\n",
    "                end = int(row[2]) #end position of that part of the chromosome\n",
    "\n",
    "                if chromosome in panel_coverage.keys():\n",
    "                    panel_coverage[chromosome].append((start, end))\n",
    "                else:\n",
    "                    panel_coverage[chromosome]=([(start, end)])\n",
    "\n",
    "            row_count+=1\n",
    "\n",
    "    return panel_coverage"
   ]
  },
  {
   "cell_type": "code",
   "execution_count": 13,
   "metadata": {
    "ExecuteTime": {
     "end_time": "2024-07-15T11:35:22.231834Z",
     "start_time": "2024-07-15T11:35:22.226403Z"
    },
    "code_folding": [
     0
    ]
   },
   "outputs": [],
   "source": [
    "def region_ideogram(region_coordinates, color):\n",
    "    if color == 'blue':\n",
    "        color_lookup = {'exon': grey3, 'intron': 'white'}\n",
    "    if color == 'yellow':\n",
    "        color_lookup = {'exon': grey3, 'intron': 'white'}\n",
    "    \n",
    "    xranges = []\n",
    "    colors = []\n",
    "    mid_points = []\n",
    "    labels = []\n",
    "\n",
    "    for k, v in region_coordinates.items():\n",
    "        start = int(v[1])\n",
    "        stop = int(v[2])\n",
    "        label = k.split()[1]\n",
    "        intron_or_exon = v[0]\n",
    "        width = stop - start\n",
    "        mid_point = start + (width/2)\n",
    "        xranges.append((start, width))\n",
    "        colors.append(color_lookup[intron_or_exon])\n",
    "        if intron_or_exon == 'exon':\n",
    "\n",
    "            mid_points.append(mid_point)\n",
    "            labels.append(label)\n",
    "\n",
    "    return xranges, [0, 1.0], colors, mid_points, labels"
   ]
  },
  {
   "cell_type": "code",
   "execution_count": 19,
   "metadata": {
    "ExecuteTime": {
     "end_time": "2024-07-15T11:35:42.652387Z",
     "start_time": "2024-07-15T11:35:42.646403Z"
    },
    "code_folding": [
     0
    ]
   },
   "outputs": [],
   "source": [
    "def plot_gene(region_coordinates, ax, region, color):\n",
    "\n",
    "    xranges, yrange, colors, midpoints, labels = region_ideogram(region_coordinates, color)\n",
    "\n",
    "    ax.broken_barh(xranges, yrange, facecolors= colors, edgecolor = 'black', alpha = 1.0)\n",
    "\n",
    "    ax.set_xticks(midpoints)\n",
    "    ax.set_xticklabels(labels, rotation = 0, fontsize = 12)\n",
    "    ax.set_yticks([])\n",
    "    ax.text(-0.013, 0.35, region, transform=ax.transAxes, fontsize = 20, ha = 'right')\n",
    "    ax.text(-0.013, -0.5, 'exons:', transform=ax.transAxes, fontsize = 16, ha = 'right')\n",
    "    ax.xaxis.set_tick_params(width=0.8, color = grey3, length = 6, labelsize = 16)\n",
    "\n",
    "    ax.minorticks_off()\n",
    "\n",
    "    ax.spines['left'].set_visible(False)\n",
    "    ax.spines['bottom'].set_visible(False)\n",
    "\n",
    "    return ax"
   ]
  },
  {
   "cell_type": "code",
   "execution_count": 21,
   "metadata": {
    "ExecuteTime": {
     "end_time": "2024-07-15T11:35:46.122080Z",
     "start_time": "2024-07-15T11:35:46.117118Z"
    },
    "code_folding": [
     0
    ]
   },
   "outputs": [],
   "source": [
    "def plot_regions_targeted_by_panel(chromosome, panel_coverage, ax, y_max):\n",
    "\n",
    "    regions_covered = panel_coverage[chromosome]\n",
    "\n",
    "    for positions in regions_covered:\n",
    "        start_position = positions[0]\n",
    "        stop_position = positions[1]\n",
    "\n",
    "        bottom = 0\n",
    "        top = y_max\n",
    "\n",
    "        x = [start_position, start_position, stop_position, stop_position]\n",
    "        y = [bottom, top, top, bottom]\n",
    "#         ax.fill(x, y, color= '#deebf7', fill = True, alpha = 1.0, linewidth = 1, zorder = 0) #fill in the box with stars\n",
    "        ax.fill(x, y, color= purple2, fill = True, alpha = 0.6, linewidth = 1, zorder = 0) #fill in the box with stars\n",
    "\n",
    "    return ax"
   ]
  },
  {
   "cell_type": "code",
   "execution_count": 15,
   "metadata": {
    "ExecuteTime": {
     "end_time": "2024-07-15T11:35:26.695827Z",
     "start_time": "2024-07-15T11:35:26.683160Z"
    },
    "code_folding": [
     0
    ]
   },
   "outputs": [],
   "source": [
    "def read_depths_plot(region_name, region_chromosome, region_start, region_stop, region_coordinates, panel_coverage, strand, color):\n",
    "    plt.close('all')\n",
    "    f, (ax1, ax2) = plt.subplots(2, 1, sharey=False, sharex = True, figsize=(20, 1.5))\n",
    "    gs = matplotlib.gridspec.GridSpec(2, 1, width_ratios=[1], height_ratios=[1,1])\n",
    "    ax1 = plt.subplot(gs[0])\n",
    "    ax2 = plt.subplot(gs[1])\n",
    "    gs.update(hspace=0.05)\n",
    "\n",
    "    m_size = 100\n",
    "    axisfont=15\n",
    "    titlefont=15\n",
    "    axislabelfont=15\n",
    "    exonfont=12\n",
    "\n",
    "    ax1.plot([region_start, region_stop], [0, 0], color = grey3, lw = 2, linestyle = ':')\n",
    "\n",
    "    #gene IDEOGRAM\n",
    "    plot_gene(region_coordinates, ax2, region_name, color)\n",
    "\n",
    "    #REGIONS COVERED BY PANEL:\n",
    "    plot_regions_targeted_by_panel(region_chromosome, panel_coverage, ax1, 1)\n",
    "\n",
    "    # CONFIGURING THE GRAPH APPEARANCE\n",
    "    #Set the x and y axis limits\n",
    "    if strand == '+':\n",
    "        ax1.set_xlim(region_start-500, region_stop+500)\n",
    "        ax2.set_xlim(region_start-500, region_stop+500)\n",
    "    if strand == '-':\n",
    "        ax1.set_xlim(region_stop+500, region_start-500)\n",
    "        ax2.set_xlim(region_stop+500, region_start-500)\n",
    "    ax1.set_ylim(0, 1)\n",
    "\n",
    "    #x-axis ticks\n",
    "    x1_major_ticks = []\n",
    "    x1_major_tick_labels = []\n",
    "    ax1.set_xticks(x1_major_ticks)\n",
    "    ax1.set_xticklabels(x1_major_tick_labels, fontsize = axisfont)\n",
    "    ax1.set_yticks(x1_major_ticks)\n",
    "    ax1.set_yticklabels(x1_major_tick_labels, fontsize = axisfont)\n",
    "\n",
    "#     ax1.tick_params(axis='y', which='major', labelsize=13)\n",
    "\n",
    "    #Only show the required axis lines\n",
    "    ax1.spines['top'].set_visible(False)\n",
    "    ax1.spines['right'].set_visible(False)\n",
    "    ax1.spines['bottom'].set_visible(False)\n",
    "    ax1.spines['left'].set_visible(False)\n",
    "\n",
    "    ax2.spines['top'].set_visible(False)\n",
    "    ax2.spines['right'].set_visible(False)\n",
    "    ax2.spines['bottom'].set_visible(False)\n",
    "    ax2.spines['left'].set_visible(False)\n",
    "\n",
    "    for axis in ['left']:\n",
    "        ax1.spines[axis].set_linewidth(1.5)\n",
    "        ax1.spines[axis].set_color('#969696')\n",
    "    ax1.yaxis.set_tick_params(width=1, color = '#969696', length = 6)\n",
    "\n",
    "    legend_elements = [Line2D([0], [0], marker = 's', color='#deebf7', alpha=1.0, markersize = 12, \\\n",
    "                      lw=0, label='regions covered by custom panel')]\n",
    "    \n",
    "    plt.tight_layout()\n",
    "\n",
    "    return plt.show()"
   ]
  },
  {
   "cell_type": "code",
   "execution_count": 9,
   "metadata": {
    "ExecuteTime": {
     "end_time": "2024-07-15T11:35:12.488468Z",
     "start_time": "2024-07-15T11:35:12.468706Z"
    }
   },
   "outputs": [],
   "source": [
    "panel_bed = 'Data_files/TWIST_CNV_panel_TE-95031423_h19.bed'\n",
    "panel_coverage = panel_coverage_dict(panel_bed)"
   ]
  },
  {
   "cell_type": "code",
   "execution_count": 24,
   "metadata": {
    "ExecuteTime": {
     "end_time": "2024-07-15T11:35:55.520066Z",
     "start_time": "2024-07-15T11:35:54.887279Z"
    },
    "code_folding": [
     0
    ]
   },
   "outputs": [
    {
     "name": "stdout",
     "output_type": "stream",
     "text": [
      "plotting ABL1 translocation breakpoint read depths\n"
     ]
    },
    {
     "name": "stderr",
     "output_type": "stream",
     "text": [
      "/opt/anaconda3/lib/python3.7/site-packages/ipykernel_launcher.py:62: UserWarning: This figure includes Axes that are not compatible with tight_layout, so results might be incorrect.\n"
     ]
    },
    {
     "data": {
      "image/png": "[encoded data removed]",
      "text/plain": [
       "<Figure size 1440x108 with 2 Axes>"
      ]
     },
     "metadata": {
      "needs_background": "light"
     },
     "output_type": "display_data"
    }
   ],
   "source": [
    "#ABL1\n",
    "print('plotting ABL1 translocation breakpoint read depths')\n",
    "ABL1_chromosome = 'chr9'\n",
    "ABL1_start = 133710453\n",
    "ABL1_stop = 133763062\n",
    "ABL1_coordinates = {'Exon 1': ('exon', 133710453, 133710912),\n",
    "                   'Intron 1-2': ('intron', 133710913, 133729450),\n",
    "                   'Exon 2': ('exon', 133729451, 133729624),\n",
    "                   'Intron 2-3': ('intron', 133729625, 133730187),\n",
    "                   'Exon 3': ('exon', 133730188, 133730483),\n",
    "                   'Intron 3-4': ('intron', 133730484, 133738149),\n",
    "                   'Exon 4': ('exon', 133738150, 133738422),\n",
    "                   'Intron 4-5': ('intron', 133738423, 133747515),\n",
    "                   'Exon 5': ('exon', 133747516, 133747600),\n",
    "                   'Intron 5-6': ('intron', 133747601, 133748246),\n",
    "                   'Exon 6': ('exon', 133748247, 133748424),\n",
    "                   'Intron 6-7': ('intron', 133748425, 133750254),\n",
    "                   'Exon 7': ('exon', 133750255, 133750439),\n",
    "                   'Intron 7-8': ('intron', 133750440, 133753801),\n",
    "                   'Exon 8': ('exon', 133753802, 133753954),\n",
    "                   'Intron 8-9': ('intron', 133753955, 133755454),\n",
    "                   'Exon 9': ('exon', 133755455, 133755544),\n",
    "                   'Intron 9-10': ('intron', 133755545, 133755886),\n",
    "                   'Exon 10': ('exon', 133755887, 133756051),\n",
    "                   'Intron 10-11': ('intron', 133756052, 133759355),\n",
    "                   'Exon 11': ('exon', 133759356, 133763062)}\n",
    "\n",
    "color = 'yellow'\n",
    "\n",
    "ABL1_panel_positions = region_panel_positions_list(ABL1_coordinates, panel_bed, ABL1_chromosome, ABL1_start, ABL1_stop)\n",
    "ABL1_intron_exon_positions = region_ideogram(ABL1_coordinates, color)\n",
    "read_depths_plot('ABL1', ABL1_chromosome, ABL1_start, ABL1_stop, ABL1_coordinates, panel_coverage, '+', color)"
   ]
  },
  {
   "cell_type": "code",
   "execution_count": 25,
   "metadata": {
    "ExecuteTime": {
     "end_time": "2024-07-15T11:35:56.825248Z",
     "start_time": "2024-07-15T11:35:56.493211Z"
    },
    "code_folding": [
     0,
     5
    ]
   },
   "outputs": [
    {
     "name": "stdout",
     "output_type": "stream",
     "text": [
      "plotting BCR translocation breakpoint read depths\n"
     ]
    },
    {
     "name": "stderr",
     "output_type": "stream",
     "text": [
      "/opt/anaconda3/lib/python3.7/site-packages/ipykernel_launcher.py:62: UserWarning: This figure includes Axes that are not compatible with tight_layout, so results might be incorrect.\n"
     ]
    },
    {
     "data": {
      "image/png": "[encoded data removed]",
      "text/plain": [
       "<Figure size 1440x108 with 2 Axes>"
      ]
     },
     "metadata": {
      "needs_background": "light"
     },
     "output_type": "display_data"
    }
   ],
   "source": [
    "#BCR\n",
    "print('plotting BCR translocation breakpoint read depths')\n",
    "BCR_chromosome = 'chr22'\n",
    "BCR_start = 23522397\n",
    "BCR_stop = 23660224\n",
    "BCR_coordinates = {'Exon 1': ('exon', 23522397, 23524426),\n",
    "                   'Intron 1-2': ('intron', 23524427, 23595985),\n",
    "                   'Exon 2': ('exon', 23595986, 23596167),\n",
    "                   'Intron 2-3': ('intron', 23596168, 23603136),\n",
    "                   'Exon 3': ('exon', 23603137, 23603241),\n",
    "                   'Intron 3-4': ('intron', 23603242, 23603541),\n",
    "                   'Exon 4': ('exon', 23603542, 23603727),\n",
    "                   'Intron 4-5': ('intron', 23603728, 23610594),\n",
    "                   'Exon 5': ('exon', 23610595, 23610702),\n",
    "                   'Intron 5-6': ('intron', 23610703, 23613718),\n",
    "                   'Exon 6': ('exon', 23613719, 23613779),\n",
    "                   'Intron 6-7': ('intron', 23613780, 23615267),\n",
    "                   'Exon 7': ('exon', 23615268, 23615320),\n",
    "                   'Intron 7-8': ('intron', 23615321, 23615820),\n",
    "                   'Exon 8': ('exon', 23615821, 23615961),\n",
    "                   'Intron 8-9': ('intron', 23615962, 23626163),\n",
    "                   'Exon 9': ('exon', 23626164, 23626285),\n",
    "                   'Intron 9-10': ('intron', 23626286, 23627219),\n",
    "                   'Exon 10': ('exon', 23627220, 23627388),\n",
    "                   'Intron 10-11': ('intron', 23627389, 23629345),\n",
    "                   'Exon 11': ('exon', 23629346, 23629465),\n",
    "                  'Intron 11-12':('intron', 23629466, 23630283),\n",
    "                  'Exon 12': ('exon', 23630284, 23630359),\n",
    "                  'Intron 12-13': ('intron', 23630360, 23631703),\n",
    "                  'Exon 13': ('exon', 23631704, 23631808),\n",
    "                  'Intron 13-14': ('intron', 23631809, 23632525),\n",
    "                  'Exon 14': ('exon', 23632526, 23632600),\n",
    "                  'Intron 14-15': ('intron', 23632601, 23634727),\n",
    "                  'Exon 15': ('exon', 23634728, 23634825),\n",
    "                  'Intron 15-16': ('intron', 23634826, 23637210),\n",
    "                  'Exon 16': ('exon', 23637211, 23637342),\n",
    "                  'Intron 16-17': ('intron', 23637343, 23651610),\n",
    "                  'Exon 17': ('exon', 23651611, 23651670),\n",
    "                  'Intron 17-18': ('intron', 23651671, 23652510),\n",
    "                  'Exon 18': ('exon', 23652511, 23652620),\n",
    "                  'Intron 18-19': ('intron', 23652621, 23653883),\n",
    "                  'Exon 19': ('exon', 23653884, 23654023),\n",
    "                  'Intron 19-20': ('intron', 23654024, 23655073),\n",
    "                  'Exon 20': ('exon', 23655074, 23655208),\n",
    "                  'Intron 20-21': ('intron', 23655209, 23656154),\n",
    "                  'Exon 21': ('exon', 23656155, 23656260),\n",
    "                  'Intron 21-22': ('intron', 23656261, 23656738),\n",
    "                  'Exon 22': ('exon', 23656739, 23656901),\n",
    "                  'Intron 22-23': ('intron', 23656902, 23657619),\n",
    "                  'Exon 23': ('exon', 23657620, 23660224)}\n",
    "\n",
    "color = 'blue'\n",
    "\n",
    "BCR_panel_positions = region_panel_positions_list(BCR_coordinates, panel_bed, BCR_chromosome, BCR_start, BCR_stop)\n",
    "BCR_intron_exon_positions = region_ideogram(BCR_coordinates, color)\n",
    "read_depths_plot('BCR', BCR_chromosome, BCR_start, BCR_stop, BCR_coordinates, panel_coverage, '+', color)"
   ]
  },
  {
   "cell_type": "code",
   "execution_count": 26,
   "metadata": {
    "ExecuteTime": {
     "end_time": "2024-07-15T11:35:57.638837Z",
     "start_time": "2024-07-15T11:35:57.162870Z"
    },
    "code_folding": [
     0
    ]
   },
   "outputs": [
    {
     "name": "stdout",
     "output_type": "stream",
     "text": [
      "plotting PML translocation breakpoint read depths\n"
     ]
    },
    {
     "name": "stderr",
     "output_type": "stream",
     "text": [
      "/opt/anaconda3/lib/python3.7/site-packages/ipykernel_launcher.py:62: UserWarning: This figure includes Axes that are not compatible with tight_layout, so results might be incorrect.\n"
     ]
    },
    {
     "data": {
      "image/png": "[encoded data removed]",
      "text/plain": [
       "<Figure size 1440x108 with 2 Axes>"
      ]
     },
     "metadata": {
      "needs_background": "light"
     },
     "output_type": "display_data"
    }
   ],
   "source": [
    "#PML\n",
    "print('plotting PML translocation breakpoint read depths')\n",
    "PML_chromosome = 'chr15'\n",
    "PML_start = 74287058\n",
    "PML_stop = 74339112\n",
    "PML_coordinates = {'Exon 1': ('exon', 74287058, 74287282),\n",
    "                   'Intron 1-2': ('intron', 74287283, 74290344),\n",
    "                   'Exon 2': ('exon', 74290345, 74290817),\n",
    "                   'Intron 2-3': ('intron', 74290818, 74315168),\n",
    "                   'Exon 3': ('exon', 74315169, 74315749),\n",
    "                   'Intron 3-4': ('intron', 74315750, 74317197),\n",
    "                   'Exon 4': ('exon', 74317198, 74317268),\n",
    "                   'Intron 4-5': ('intron', 74317269, 74324912),\n",
    "                   'Exon 5': ('exon', 74324913, 74325056),\n",
    "                   'Intron 5-6': ('intron', 74325057, 74325496),\n",
    "                   'Exon 6': ('exon', 74325497, 74325755),\n",
    "                   'Intron 6-7': ('intron', 74325756, 74326818),\n",
    "                   'Exon 7': ('exon', 74326819, 74326871),\n",
    "                   'Intron 7-8': ('intron', 74326872, 74335329),\n",
    "                   'Exon 8': ('exon', 74335330, 74335480),\n",
    "                   'Intron 8-9': ('intron', 74335481, 74336561),\n",
    "                   'Exon 9': ('exon', 74336562, 74339112)}\n",
    "\n",
    "color = 'blue'\n",
    "\n",
    "PML_panel_positions = region_panel_positions_list(PML_coordinates, panel_bed, PML_chromosome, PML_start, PML_stop)\n",
    "PML_intron_exon_positions = region_ideogram(PML_coordinates, color)\n",
    "read_depths_plot('PML', PML_chromosome, PML_start, PML_stop, PML_coordinates, panel_coverage, '+', color)"
   ]
  },
  {
   "cell_type": "code",
   "execution_count": 27,
   "metadata": {
    "ExecuteTime": {
     "end_time": "2024-07-15T11:35:58.072136Z",
     "start_time": "2024-07-15T11:35:57.641836Z"
    },
    "code_folding": [
     0
    ]
   },
   "outputs": [
    {
     "name": "stdout",
     "output_type": "stream",
     "text": [
      "plotting RARA translocation breakpoint read depths\n"
     ]
    },
    {
     "name": "stderr",
     "output_type": "stream",
     "text": [
      "/opt/anaconda3/lib/python3.7/site-packages/ipykernel_launcher.py:62: UserWarning: This figure includes Axes that are not compatible with tight_layout, so results might be incorrect.\n"
     ]
    },
    {
     "data": {
      "image/png": "[encoded data removed]",
      "text/plain": [
       "<Figure size 1440x108 with 2 Axes>"
      ]
     },
     "metadata": {
      "needs_background": "light"
     },
     "output_type": "display_data"
    }
   ],
   "source": [
    "#RARA\n",
    "print('plotting RARA translocation breakpoint read depths')\n",
    "RARA_chromosome = 'chr17'\n",
    "RARA_start = 38474533\n",
    "RARA_stop = 38512583\n",
    "RARA_coordinates = {'Exon 1': ('exon', 38474533, 38474700),\n",
    "                   'Intron 1-2': ('intron', 38474701, 38487108),\n",
    "                   'Exon 2': ('exon', 38487109, 38487648),\n",
    "                   'Intron 2-3': ('intron', 38487649, 38504567),\n",
    "                   'Exon 3': ('exon', 38504568, 38504716),\n",
    "                   'Intron 3-4': ('intron', 38504717, 38506035),\n",
    "                   'Exon 4': ('exon', 38506036, 38506177),\n",
    "                   'Intron 4-5': ('intron', 38506178, 38508161),\n",
    "                   'Exon 5': ('exon', 38508162, 38508322),\n",
    "                   'Intron 5-6': ('intron', 38508323, 38508582),\n",
    "                   'Exon 6': ('exon', 38508583, 38508759),\n",
    "                   'Intron 6-7': ('intron', 38508760, 38510553),\n",
    "                   'Exon 7': ('exon', 38510554, 38510758),\n",
    "                   'Intron 7-8': ('intron', 38510759, 38511514),\n",
    "                   'Exon 8': ('exon', 38511515, 38511673),\n",
    "                   'Intron 8-9': ('intron', 38511674, 38512260),\n",
    "                   'Exon 9': ('exon', 38512261, 38512583)}\n",
    "\n",
    "color = 'yellow'\n",
    "\n",
    "RARA_panel_positions = region_panel_positions_list(RARA_coordinates, panel_bed, RARA_chromosome, RARA_start, RARA_stop)\n",
    "RARA_intron_exon_positions = region_ideogram(RARA_coordinates, color)\n",
    "read_depths_plot('RARA', RARA_chromosome, RARA_start, RARA_stop, RARA_coordinates, panel_coverage, '+', color)"
   ]
  },
  {
   "cell_type": "code",
   "execution_count": 28,
   "metadata": {
    "ExecuteTime": {
     "end_time": "2024-07-15T11:35:58.607405Z",
     "start_time": "2024-07-15T11:35:58.073861Z"
    },
    "code_folding": [
     0
    ]
   },
   "outputs": [
    {
     "name": "stdout",
     "output_type": "stream",
     "text": [
      "plotting CBFB translocation breakpoint read depths\n"
     ]
    },
    {
     "name": "stderr",
     "output_type": "stream",
     "text": [
      "/opt/anaconda3/lib/python3.7/site-packages/ipykernel_launcher.py:62: UserWarning: This figure includes Axes that are not compatible with tight_layout, so results might be incorrect.\n"
     ]
    },
    {
     "data": {
      "image/png": "[encoded data removed]",
      "text/plain": [
       "<Figure size 1440x108 with 2 Axes>"
      ]
     },
     "metadata": {
      "needs_background": "light"
     },
     "output_type": "display_data"
    }
   ],
   "source": [
    "#CBFB\n",
    "print('plotting CBFB translocation breakpoint read depths')\n",
    "CBFB_chromosome = 'chr16'\n",
    "CBFB_start = 67063148\n",
    "CBFB_stop = 67134925\n",
    "\n",
    "CBFB_coordinates = {'Exon 1': ('exon', 67063148, 67063388),\n",
    "                   'Intron 1-2': ('intron', 67063389, 67063629),\n",
    "                   'Exon 2': ('exon', 67063630, 67063716),\n",
    "                   'Intron 2-3': ('intron', 67063717, 67070541),\n",
    "                   'Exon 3': ('exon', 67070542, 67070658),\n",
    "                   'Intron 3-4': ('intron', 67070659, 67100584),\n",
    "                   'Exon 4': ('exon', 67100585, 67100701),\n",
    "                   'Intron 4-5': ('intron', 67100702, 67116115),\n",
    "                   'Exon 5': ('exon', 67116116, 67116211),\n",
    "                   'Intron 5-6': ('intron', 67116212, 67132612),\n",
    "                   'Exon 6': ('exon', 67132613, 67134925)}\n",
    "\n",
    "color = 'yellow'\n",
    "\n",
    "CBFB_panel_positions = region_panel_positions_list(CBFB_coordinates, panel_bed, CBFB_chromosome, CBFB_start, CBFB_stop)\n",
    "CBFB_intron_exon_positions = region_ideogram(CBFB_coordinates, color)\n",
    "read_depths_plot('CBFB', CBFB_chromosome, CBFB_start, CBFB_stop, CBFB_coordinates, panel_coverage, '+', color)"
   ]
  },
  {
   "cell_type": "code",
   "execution_count": 29,
   "metadata": {
    "ExecuteTime": {
     "end_time": "2024-07-15T11:35:59.202039Z",
     "start_time": "2024-07-15T11:35:58.609834Z"
    },
    "code_folding": [
     0
    ]
   },
   "outputs": [
    {
     "name": "stdout",
     "output_type": "stream",
     "text": [
      "plotting MYH11 translocation breakpoint read depths\n"
     ]
    },
    {
     "name": "stderr",
     "output_type": "stream",
     "text": [
      "/opt/anaconda3/lib/python3.7/site-packages/ipykernel_launcher.py:62: UserWarning: This figure includes Axes that are not compatible with tight_layout, so results might be incorrect.\n"
     ]
    },
    {
     "data": {
      "image/png": "[encoded data removed]",
      "text/plain": [
       "<Figure size 1440x108 with 2 Axes>"
      ]
     },
     "metadata": {
      "needs_background": "light"
     },
     "output_type": "display_data"
    }
   ],
   "source": [
    "#MYH11\n",
    "print('plotting MYH11 translocation breakpoint read depths')\n",
    "MYH11_chromosome = 'chr16'\n",
    "MYH11_start = 15797029\n",
    "MYH11_stop = 15950868\n",
    "MYH11_coordinates = {'Exon 1': ('exon', 15950798, 15950868),\n",
    "                   'Intron 1-2': ('intron', 15932127, 15950797),\n",
    "                   'Exon 2': ('exon', 15931765, 15932126),\n",
    "                   'Intron 2-3': ('intron', 15917269, 15931764),\n",
    "                   'Exon 3': ('exon', 15917112, 15917268),\n",
    "                   'Intron 3-4': ('intron', 15892545, 15917111),\n",
    "                   'Exon 4': ('exon', 15892517, 15892544),\n",
    "                   'Intron 4-5': ('intron', 15880590, 15892516),\n",
    "                   'Exon 5': ('exon', 15880487, 15880589),\n",
    "                   'Intron 5-6': ('intron', 15878576, 15880486),\n",
    "                   'Exon 6': ('exon', 15878555, 15878575),\n",
    "                   'Intron 6-7': ('intron', 15876335, 15878554),\n",
    "                   'Exon 7': ('exon', 15876242, 15876334),\n",
    "                   'Intron 7-8': ('intron', 15872701, 15876241),\n",
    "                   'Exon 8': ('exon', 15872637, 15872700),\n",
    "                   'Intron 8-9': ('intron', 15870034, 15872636),\n",
    "                   'Exon 9': ('exon', 15869935, 15870033),\n",
    "                   'Intron 9-10': ('intron', 15865570, 15869934),\n",
    "                   'Exon 10': ('exon', 15865426, 15865569),\n",
    "                   'Intron 10-11': ('intron', 15857749, 15865425),\n",
    "                   'Exon 11': ('exon', 15857653, 15857748),\n",
    "                  'Intron 11-12':('intron', 15854516, 15857652),\n",
    "                  'Exon 12': ('exon', 15854397, 15854515),\n",
    "                  'Intron 12-13': ('intron', 15853586, 15854396),\n",
    "                  'Exon 13': ('exon', 15853433, 15853585),\n",
    "                  'Intron 13-14': ('intron', 15851858, 15853432),\n",
    "                  'Exon 14': ('exon', 15851684, 15851857),\n",
    "                  'Intron 14-15': ('intron', 15850372, 15851683),\n",
    "                  'Exon 15': ('exon', 15850198, 15850371),\n",
    "                  'Intron 15-16': ('intron', 15847366, 15850197),\n",
    "                  'Exon 16': ('exon', 15847251, 15847365),\n",
    "                  'Intron 16-17': ('intron', 15844189, 15847250),\n",
    "                  'Exon 17': ('exon', 15843995, 15844188),\n",
    "                  'Intron 17-18': ('intron', 15842026, 15843994),\n",
    "                  'Exon 18': ('exon', 15841904, 1584225),\n",
    "                  'Intron 18-19': ('intron', 15841801, 15841903),\n",
    "                  'Exon 19': ('exon', 15841731, 15841800),\n",
    "                  'Intron 19-20': ('intron', 15841588, 15841730),\n",
    "                  'Exon 20': ('exon', 15841427, 15841587),\n",
    "                  'Intron 20-21': ('intron', 15841427, 15841587),\n",
    "                  'Exon 21': ('exon', 15839095, 15841426),\n",
    "                  'Intron 21-22': ('intron', 15838986, 15839094),\n",
    "                  'Exon 22': ('exon', 15835749, 15838985),\n",
    "                  'Intron 22-23': ('intron', 15835617, 15835748),\n",
    "                  'Exon 23': ('exon', 15835320, 15835526),\n",
    "                  'Intron 23-24': ('intron', 15834046, 15835319),\n",
    "                  'Exon 24': ('exon', 15833908, 15834045),\n",
    "                  'Intron 24-25': ('intron', 15832546, 15833907),\n",
    "                  'Exon 25': ('exon', 15832422, 15832545),\n",
    "                  'Intron 25-26': ('intron', 15831478, 15832421),\n",
    "                  'Exon 26': ('exon', 15831306, 15831477),\n",
    "                  'Intron 26-27': ('intron', 15829436, 15831305),\n",
    "                  'Exon 27': ('exon', 15829223, 15829435),\n",
    "                  'Intron 27-28': ('intron', 15826566, 15829222),\n",
    "                  'Exon 28': ('exon', 15826421, 15826565),\n",
    "                  'Intron 28-29': ('intron', 15820912, 15826420),\n",
    "                  'Exon 29': ('exon', 15820705, 15820911),\n",
    "                  'Intron 29-30': ('intron', 15818850, 15820704),\n",
    "                  'Exon 30': ('exon', 15818745, 15818849),\n",
    "                  'Intron 30-31': ('intron', 15818657, 15818744),\n",
    "                  'Exon 31': ('exon', 15818504, 15818656),\n",
    "                  'Intron 31-32': ('intron', 15818267, 15818503),\n",
    "                  'Exon 32': ('exon', 15818018, 15818266),\n",
    "                  'Intron 32-33': ('intron', 15815492, 15818017),\n",
    "                  'Exon 33': ('exon', 15815279, 15815491),\n",
    "                  'Intron 33-34': ('intron', 15814909, 15815278),\n",
    "                  'Exon 34': ('exon', 15814696, 15814908),\n",
    "                  'Intron 34-35': ('intron', 15814170, 15814695),\n",
    "                  'Exon 35': ('exon', 15814008, 15814169),\n",
    "                  'Intron 35-36': ('intron', 15813571, 15814007),\n",
    "                  'Exon 36': ('exon', 15813442, 15813570),\n",
    "                  'Intron 36-37': ('intron', 15813166, 15813441),\n",
    "                  'Exon 37': ('exon', 15813077, 15813165),\n",
    "                  'Intron 37-38': ('intron', 15812296, 15813076),\n",
    "                  'Exon 38': ('exon', 15812172, 15812295),\n",
    "                  'Intron 38-39': ('intron', 15829436, 15831305),\n",
    "                  'Exon 39': ('exon', 15810997, 15811205),\n",
    "                  'Intron 39-40': ('intron', 15809130, 15810996),\n",
    "                  'Exon 40': ('exon', 15809021, 15809129),\n",
    "                  'Intron 40-41': ('intron', 15808939, 15809020),\n",
    "                  'Exon 41': ('exon', 15808766, 15808938),\n",
    "                  'Intron 41-42': ('intron', 15797981, 15808765),\n",
    "                  'Exon 42': ('exon', 15797029, 15797980)}\n",
    "\n",
    "color = 'blue'\n",
    "\n",
    "MYH11_panel_positions = region_panel_positions_list(MYH11_coordinates, panel_bed, MYH11_chromosome, MYH11_start, MYH11_stop)\n",
    "MYH11_intron_exon_positions = region_ideogram(MYH11_coordinates, color)\n",
    "read_depths_plot('MYH11', MYH11_chromosome, MYH11_start, MYH11_stop, MYH11_coordinates, panel_coverage, '-', color)"
   ]
  },
  {
   "cell_type": "code",
   "execution_count": 30,
   "metadata": {
    "ExecuteTime": {
     "end_time": "2024-07-15T11:35:59.554008Z",
     "start_time": "2024-07-15T11:35:59.204619Z"
    },
    "code_folding": [
     0
    ]
   },
   "outputs": [
    {
     "name": "stdout",
     "output_type": "stream",
     "text": [
      "plotting RUNX1 translocation breakpoint read depths\n"
     ]
    },
    {
     "name": "stderr",
     "output_type": "stream",
     "text": [
      "/opt/anaconda3/lib/python3.7/site-packages/ipykernel_launcher.py:62: UserWarning: This figure includes Axes that are not compatible with tight_layout, so results might be incorrect.\n"
     ]
    },
    {
     "data": {
      "image/png": "[encoded data removed]",
      "text/plain": [
       "<Figure size 1440x108 with 2 Axes>"
      ]
     },
     "metadata": {
      "needs_background": "light"
     },
     "output_type": "display_data"
    }
   ],
   "source": [
    "#RUNX1\n",
    "print('plotting RUNX1 translocation breakpoint read depths')\n",
    "RUNX1_chromosome = 'chr21'\n",
    "RUNX1_start = 36164907\n",
    "RUNX1_stop = 36421139\n",
    "RUNX1_coordinates = {'Exon 1': ('exon', 36421139, 36421641),\n",
    "                   'Intron 1-2': ('intron', 36265261, 36421138),\n",
    "                   'Exon 2': ('exon', 36265222, 36265260),\n",
    "                   'Intron 2-3': ('intron', 36259394, 36265221),\n",
    "                   'Exon 3': ('exon', 36259140, 36259393),\n",
    "                   'Intron 3-4': ('intron', 36253011, 36259139),\n",
    "                   'Exon 4': ('exon', 36252854, 36253010),\n",
    "                   'Intron 4-5': ('intron', 36231876, 36252853),\n",
    "                   'Exon 5': ('exon', 36231771, 36231875),\n",
    "                   'Intron 5-6': ('intron', 36206899, 36231770),\n",
    "                   'Exon 6': ('exon', 36206707, 36206898),\n",
    "                   'Intron 6-7': ('intron', 36171760, 36206706),\n",
    "                   'Exon 7': ('exon', 36171598, 36171759),\n",
    "                   'Intron 7-8': ('intron', 36164908, 36171597),\n",
    "                   'Exon 8': ('exon', 36160098, 36164907)}\n",
    "\n",
    "color = 'yellow'\n",
    "\n",
    "RUNX1_panel_positions = region_panel_positions_list(RUNX1_coordinates, panel_bed, RUNX1_chromosome, RUNX1_start, RUNX1_stop)\n",
    "RUNX1_intron_exon_positions = region_ideogram(RUNX1_coordinates, color)\n",
    "read_depths_plot('RUNX1', RUNX1_chromosome, RUNX1_start, RUNX1_stop, RUNX1_coordinates, panel_coverage, '-', color)"
   ]
  },
  {
   "cell_type": "code",
   "execution_count": 31,
   "metadata": {
    "ExecuteTime": {
     "end_time": "2024-07-15T11:36:00.266689Z",
     "start_time": "2024-07-15T11:35:59.555928Z"
    },
    "code_folding": [
     0
    ]
   },
   "outputs": [
    {
     "name": "stdout",
     "output_type": "stream",
     "text": [
      "plotting RUNX1T1 translocation breakpoint read depths\n"
     ]
    },
    {
     "name": "stderr",
     "output_type": "stream",
     "text": [
      "/opt/anaconda3/lib/python3.7/site-packages/ipykernel_launcher.py:62: UserWarning: This figure includes Axes that are not compatible with tight_layout, so results might be incorrect.\n"
     ]
    },
    {
     "data": {
      "image/png": "[encoded data removed]",
      "text/plain": [
       "<Figure size 1440x108 with 2 Axes>"
      ]
     },
     "metadata": {
      "needs_background": "light"
     },
     "output_type": "display_data"
    }
   ],
   "source": [
    "#RUNX1T1\n",
    "print('plotting RUNX1T1 translocation breakpoint read depths')\n",
    "RUNX1T1_chromosome = 'chr8'\n",
    "RUNX1T1_start = 92971152\n",
    "RUNX1T1_stop = 93088364\n",
    "RUNX1T1_coordinates = {'Exon 1': ('exon', 93088193, 93088364),\n",
    "                   'Intron 1-2': ('intron', 93029592, 93088192),\n",
    "                   'Exon 2': ('exon', 93029454, 93029591),\n",
    "                   'Intron 2-3': ('intron', 93027049, 93029453),\n",
    "                   'Exon 3': ('exon', 93026807, 93027048),\n",
    "                   'Intron 3-4': ('intron', 93023320, 93026806),\n",
    "                   'Exon 4': ('exon', 93023230, 93023319),\n",
    "                   'Intron 4-5': ('intron', 93017526, 93023229),\n",
    "                   'Exon 5': ('exon', 93017344, 93017525),\n",
    "                   'Intron 5-6': ('intron', 93004118, 93017343),\n",
    "                   'Exon 6': ('exon', 93003867, 93004117),\n",
    "                   'Intron 6-7': ('intron', 92999201, 93003866),\n",
    "                   'Exon 7': ('exon', 92999115, 92999200),\n",
    "                   'Intron 7-8': ('intron', 92998554, 92999114),\n",
    "                   'Exon 8': ('exon', 92998352, 92998553),\n",
    "                     'Intron 8-9': ('intron', 92988202, 92998351),\n",
    "                     'Exon 9': ('exon', 92988133, 92988201),\n",
    "                     'Intron 9-10': ('intron', 92983077, 92988132),\n",
    "                     'Exon 10':  ('exon', 92982886, 92983076),\n",
    "                     'Intron 10-11': ('intron', 92972746, 92982885),\n",
    "                     'Exon 11': ('exon', 92971152, 92972745)}\n",
    "\n",
    "color = 'blue'\n",
    "\n",
    "RUNX1T1_panel_positions = region_panel_positions_list(RUNX1T1_coordinates, panel_bed, RUNX1T1_chromosome, RUNX1T1_start, RUNX1T1_stop)\n",
    "RUNX1T1_intron_exon_positions = region_ideogram(RUNX1T1_coordinates, color)\n",
    "read_depths_plot('RUNX1T1', RUNX1T1_chromosome, RUNX1T1_start, RUNX1T1_stop, RUNX1T1_coordinates, panel_coverage, '-', color)"
   ]
  },
  {
   "cell_type": "code",
   "execution_count": 32,
   "metadata": {
    "ExecuteTime": {
     "end_time": "2024-07-15T11:36:01.091724Z",
     "start_time": "2024-07-15T11:36:00.268774Z"
    },
    "code_folding": [
     0
    ]
   },
   "outputs": [
    {
     "name": "stdout",
     "output_type": "stream",
     "text": [
      "plotting DEK translocation breakpoint read depths\n"
     ]
    },
    {
     "name": "stderr",
     "output_type": "stream",
     "text": [
      "/opt/anaconda3/lib/python3.7/site-packages/ipykernel_launcher.py:62: UserWarning: This figure includes Axes that are not compatible with tight_layout, so results might be incorrect.\n"
     ]
    },
    {
     "data": {
      "image/png": "[encoded data removed]",
      "text/plain": [
       "<Figure size 1440x108 with 2 Axes>"
      ]
     },
     "metadata": {
      "needs_background": "light"
     },
     "output_type": "display_data"
    }
   ],
   "source": [
    "#DEK\n",
    "print('plotting DEK translocation breakpoint read depths')\n",
    "DEK_chromosome = 'chr6'\n",
    "DEK_start = 18224099\n",
    "DEK_stop = 18265054\n",
    "DEK_coordinates = {'Exon 1': ('exon', 18264616, 18265054),\n",
    "                   'Intron 1-2': ('intron', 18264228, 18264615),\n",
    "                   'Exon 2': ('exon', 18264074, 18264227),\n",
    "                   'Intron 2-3': ('intron', 18258637, 18264073),\n",
    "                   'Exon 3': ('exon', 18258535, 18258636),\n",
    "                   'Intron 3-4': ('intron', 18258294, 18258534),\n",
    "                   'Exon 4': ('exon', 18258184, 18258293),\n",
    "                   'Intron 4-5': ('intron', 18256687, 18258183),\n",
    "                   'Exon 5': ('exon', 18256592, 18256686),\n",
    "                   'Intron 5-6': ('intron', 18256083, 18256591),\n",
    "                   'Exon 6': ('exon', 18255962, 18256082),\n",
    "                   'Intron 6-7': ('intron', 18250071, 18255961),\n",
    "                   'Exon 7': ('exon', 18249882, 18250070),\n",
    "                   'Intron 7-8': ('intron', 18237748, 18249881),\n",
    "                   'Exon 8': ('exon', 18237612, 18237747),\n",
    "                     'Intron 8-9': ('intron', 18236832, 18237611),\n",
    "                     'Exon 9': ('exon', 18236683, 18236831),\n",
    "                     'Intron 9-10': ('intron', 18226474, 18236682),\n",
    "                     'Exon 10':  ('exon', 18226405, 18226473),\n",
    "                     'Intron 10-11': ('intron', 18225962, 18226404),\n",
    "                     'Exon 11': ('exon', 18224099, 18225961)}\n",
    "\n",
    "color = 'blue'\n",
    "\n",
    "DEK_panel_positions = region_panel_positions_list(DEK_coordinates, panel_bed, DEK_chromosome, DEK_start, DEK_stop)\n",
    "DEK_intron_exon_positions = region_ideogram(DEK_coordinates, color)\n",
    "read_depths_plot('DEK', DEK_chromosome, DEK_start, DEK_stop, DEK_coordinates, panel_coverage, '-', color)"
   ]
  },
  {
   "cell_type": "code",
   "execution_count": 33,
   "metadata": {
    "ExecuteTime": {
     "end_time": "2024-07-15T11:36:01.878671Z",
     "start_time": "2024-07-15T11:36:01.094179Z"
    },
    "code_folding": [
     0
    ]
   },
   "outputs": [
    {
     "name": "stdout",
     "output_type": "stream",
     "text": [
      "plotting NUP214 translocation breakpoint read depths\n"
     ]
    },
    {
     "name": "stderr",
     "output_type": "stream",
     "text": [
      "/opt/anaconda3/lib/python3.7/site-packages/ipykernel_launcher.py:62: UserWarning: This figure includes Axes that are not compatible with tight_layout, so results might be incorrect.\n"
     ]
    },
    {
     "data": {
      "image/png": "[encoded data removed]",
      "text/plain": [
       "<Figure size 1440x108 with 2 Axes>"
      ]
     },
     "metadata": {
      "needs_background": "light"
     },
     "output_type": "display_data"
    }
   ],
   "source": [
    "#NUP214\n",
    "print('plotting NUP214 translocation breakpoint read depths')\n",
    "NUP214_chromosome = 'chr9'\n",
    "NUP214_start = 134000948\n",
    "NUP214_stop = 134110057\n",
    "NUP214_coordinates = {'Exon 1': ('exon', 134000948, 134001136),\n",
    "                   'Intron 1-2': ('intron', 134001137, 134002910),\n",
    "                   'Exon 2': ('exon', 134002911, 134003106),\n",
    "                   'Intron 2-3': ('intron', 134003107, 134003718),\n",
    "                   'Exon 3': ('exon', 134003719, 134003870),\n",
    "                   'Intron 3-4': ('intron', 134003871, 134004665),\n",
    "                   'Exon 4': ('exon', 134004666, 134004864),\n",
    "                   'Intron 4-5': ('intron', 134004865, 134006152),\n",
    "                   'Exon 5': ('exon', 134006153, 134006223),\n",
    "                   'Intron 5-6': ('intron', 134006224 ,134007982),\n",
    "                   'Exon 6': ('exon', 134007983, 134008046),\n",
    "                   'Intron 6-7': ('intron', 134008047, 134008492),\n",
    "                   'Exon 7': ('exon', 134008493, 13400896),\n",
    "                   'Intron 7-8': ('intron', 134008597, 134010284),\n",
    "                   'Exon 8': ('exon', 134010285, 134010391),\n",
    "                   'Intron 8-9': ('intron', 134010392, 134011326),\n",
    "                   'Exon 9': ('exon', 134011327, 134011393),\n",
    "                   'Intron 9-10': ('intron', 134011394, 134014667),\n",
    "                   'Exon 10': ('exon', 134014668, 134014794),\n",
    "                   'Intron 10-11': ('intron', 134014795, 134015935),\n",
    "                   'Exon 11': ('exon', 134015936, 134016097),\n",
    "                  'Intron 11-12':('intron', 134016098, 134019666),\n",
    "                  'Exon 12': ('exon', 134019667, 134020141),\n",
    "                  'Intron 12-13': ('intron', 134020142, 134021515),\n",
    "                  'Exon 13': ('exon', 134021516, 134021691),\n",
    "                  'Intron 13-14': ('intron', 134021692, 134022876),\n",
    "                  'Exon 14': ('exon', 134022877, 134022971),\n",
    "                  'Intron 14-15': ('intron', 134022972, 134025710),\n",
    "                  'Exon 15': ('exon', 134025711, 134025797),\n",
    "                  'Intron 15-16': ('intron', 134025798, 134026002),\n",
    "                  'Exon 16': ('exon', 134026003, 134026152),\n",
    "                  'Intron 16-17': ('intron', 134026153, 134027122),\n",
    "                  'Exon 17': ('exon', 134027123, 134027281),\n",
    "                  'Intron 17-18': ('intron', 134027282, 134034769),\n",
    "                  'Exon 18': ('exon', 134034770, 134034873),\n",
    "                  'Intron 18-19': ('intron', 134034874 ,134038377),\n",
    "                  'Exon 19': ('exon', 134038378, 134038560),\n",
    "                  'Intron 19-20': ('intron', 134038561, 134039256),\n",
    "                  'Exon 20': ('exon', 134039257, 134039342),\n",
    "                  'Intron 20-21': ('intron', 134039343, 134039447),\n",
    "                  'Exon 21': ('exon', 134039448, 134039531),\n",
    "                  'Intron 21-22': ('intron', 134039532, 134049441),\n",
    "                  'Exon 22': ('exon', 134049442, 134049705),\n",
    "                  'Intron 22-23': ('intron', 134049706, 134050846),\n",
    "                  'Exon 23': ('exon', 134050847, 134051008),\n",
    "                  'Intron 23-24': ('intron', 134051009, 134053697),\n",
    "                  'Exon 24': ('exon', 134053698, 134053797),\n",
    "                  'Intron 24-25': ('intron', 134053798, 134062675),\n",
    "                  'Exon 25': ('exon', 134062676, 134062751),\n",
    "                  'Intron 25-26': ('intron', 134062752, 134064439),\n",
    "                  'Exon 26': ('exon', 134064440, 134064518),\n",
    "                  'Intron 26-27': ('intron', 134064519, 134067594),\n",
    "                  'Exon 27': ('exon', 134067595, 134067679),\n",
    "                  'Intron 27-28': ('intron', 134067680, 134070619),\n",
    "                  'Exon 28': ('exon', 134070620, 134070681),\n",
    "                  'Intron 28-29': ('intron', 134070682, 134072602),\n",
    "                  'Exon 29': ('exon', 134072603, 134074402),\n",
    "                  'Intron 29-30': ('intron', 134074403, 134077033),\n",
    "                  'Exon 30': ('exon', 134077034, 134077104),\n",
    "                  'Intron 30-31': ('intron', 134077105, 134090598),\n",
    "                  'Exon 31': ('exon', 134090599, 134090755),\n",
    "                  'Intron 31-32': ('intron', 134090756, 134098164),\n",
    "                  'Exon 32': ('exon', 134098165, 134098317),\n",
    "                  'Intron 32-33': ('intron', 134098318, 134103546),\n",
    "                  'Exon 33': ('exon', 134103547, 134103718),\n",
    "                  'Intron 33-34': ('intron', 134103719, 134106016),\n",
    "                  'Exon 34': ('exon', 134106017, 134106156),\n",
    "                  'Intron 34-35': ('intron', 134106157, 134107670),\n",
    "                  'Exon 35': ('exon', 134107671, 134107695),\n",
    "                  'Intron 35-36': ('intron', 134107696, 134108840),\n",
    "                  'Exon 36': ('exon', 134108841, 134110057)}\n",
    "\n",
    "color = 'yellow'\n",
    "\n",
    "NUP214_panel_positions = region_panel_positions_list(NUP214_coordinates, panel_bed, NUP214_chromosome, NUP214_start, NUP214_stop)\n",
    "NUP214_intron_exon_positions = region_ideogram(NUP214_coordinates, color)\n",
    "read_depths_plot('NUP214', NUP214_chromosome, NUP214_start, NUP214_stop, NUP214_coordinates, panel_coverage, '+', color)"
   ]
  },
  {
   "cell_type": "code",
   "execution_count": 34,
   "metadata": {
    "ExecuteTime": {
     "end_time": "2024-07-15T11:36:02.516497Z",
     "start_time": "2024-07-15T11:36:01.880799Z"
    },
    "code_folding": [
     0
    ]
   },
   "outputs": [
    {
     "name": "stdout",
     "output_type": "stream",
     "text": [
      "plotting MLLT3 translocation breakpoint read depths\n"
     ]
    },
    {
     "name": "stderr",
     "output_type": "stream",
     "text": [
      "/opt/anaconda3/lib/python3.7/site-packages/ipykernel_launcher.py:62: UserWarning: This figure includes Axes that are not compatible with tight_layout, so results might be incorrect.\n"
     ]
    },
    {
     "data": {
      "image/png": "[encoded data removed]",
      "text/plain": [
       "<Figure size 1440x108 with 2 Axes>"
      ]
     },
     "metadata": {
      "needs_background": "light"
     },
     "output_type": "display_data"
    }
   ],
   "source": [
    "#MLLT3\n",
    "print('plotting MLLT3 translocation breakpoint read depths')\n",
    "MLLT3_chromosome = 'chr9'\n",
    "MLLT3_start = 20341663\n",
    "MLLT3_stop = 20622542\n",
    "MLLT3_coordinates = {'Exon 1': ('exon', 20622244, 20622542),\n",
    "                   'Intron 1-2': ('intron', 20620834, 20622243),\n",
    "                   'Exon 2': ('exon', 20620653, 20620833),\n",
    "                   'Intron 2-3': ('intron', 20456785, 20620652),\n",
    "                   'Exon 3': ('exon', 20456702, 20456784),\n",
    "                   'Intron 3-4': ('intron', 20448265, 20456701),\n",
    "                   'Exon 4': ('exon', 20448121, 20448264),\n",
    "                   'Intron 4-5': ('intron', 20414424, 20448120),\n",
    "                   'Exon 5': ('exon', 20413719, 20414423),\n",
    "                   'Intron 5-6': ('intron', 20365743, 20413718),\n",
    "                   'Exon 6': ('exon', 20365667, 20365742),\n",
    "                   'Intron 6-7': ('intron', 20363604, 20365666),\n",
    "                   'Exon 7': ('exon', 20363474, 20363603),\n",
    "                   'Intron 7-8': ('intron', 20360840, 20363473),\n",
    "                   'Exon 8': ('exon', 20360740, 20360839),\n",
    "                   'Intron 8-9': ('intron', 20354878, 20360739),\n",
    "                   'Exon 9': ('exon', 20354806, 20354877),\n",
    "                   'Intron 9-10': ('intron', 20353595, 20354805),\n",
    "                   'Exon 10': ('exon', 20353523, 20353594),\n",
    "                   'Intron 10-11': ('intron', 20346573, 20353522),\n",
    "                   'Exon 11': ('exon', 20341663, 20346572)}\n",
    "\n",
    "color = 'blue'\n",
    "\n",
    "MLLT3_panel_positions = region_panel_positions_list(MLLT3_coordinates, panel_bed, MLLT3_chromosome, MLLT3_start, MLLT3_stop)\n",
    "MLLT3_intron_exon_positions = region_ideogram(MLLT3_coordinates, color)\n",
    "read_depths_plot('MLLT3', MLLT3_chromosome, MLLT3_start, MLLT3_stop, MLLT3_coordinates, panel_coverage, '-', color)"
   ]
  },
  {
   "cell_type": "code",
   "execution_count": 35,
   "metadata": {
    "ExecuteTime": {
     "end_time": "2024-07-15T11:36:03.349319Z",
     "start_time": "2024-07-15T11:36:02.518538Z"
    },
    "code_folding": [
     0
    ]
   },
   "outputs": [
    {
     "name": "stdout",
     "output_type": "stream",
     "text": [
      "plotting KMT2A translocation breakpoint read depths\n"
     ]
    },
    {
     "name": "stderr",
     "output_type": "stream",
     "text": [
      "/opt/anaconda3/lib/python3.7/site-packages/ipykernel_launcher.py:62: UserWarning: This figure includes Axes that are not compatible with tight_layout, so results might be incorrect.\n"
     ]
    },
    {
     "data": {
      "image/png": "[encoded data removed]",
      "text/plain": [
       "<Figure size 1440x108 with 2 Axes>"
      ]
     },
     "metadata": {
      "needs_background": "light"
     },
     "output_type": "display_data"
    }
   ],
   "source": [
    "#KMT2A\n",
    "print('plotting KMT2A translocation breakpoint read depths')\n",
    "KMT2A_chromosome = 'chr11'\n",
    "KMT2A_start = 118307205\n",
    "KMT2A_stop = 118397539\n",
    "KMT2A_coordinates = {'Exon 1': ('exon', 118307205, 118307659),\n",
    "                   'Intron 1-2': ('intron', 118307660, 118339489),\n",
    "                   'Exon 2': ('exon', 118339490, 118339559),\n",
    "                   'Intron 2-3': ('intron', 118339560, 118342376),\n",
    "                   'Exon 3': ('exon', 118342377, 118345030),\n",
    "                   'Intron 3-4': ('intron', 118345031, 118347519),\n",
    "                   'Exon 4': ('exon', 118347520, 118347697),\n",
    "                   'Intron 4-5': ('intron', 118347698, 118348681),\n",
    "                   'Exon 5': ('exon', 118348682, 118348916),\n",
    "                   'Intron 5-6': ('intron', 118348917, 118350888),\n",
    "                   'Exon 6': ('exon', 118350889, 118350953),\n",
    "                   'Intron 6-7': ('intron', 118350954, 118352429),\n",
    "                   'Exon 7': ('exon', 118352430, 118352807),\n",
    "                   'Intron 7-8': ('intron', 118352808, 118353136),\n",
    "                   'Exon 8': ('exon', 118353137, 118353210),\n",
    "                   'Intron 8-9': ('intron', 118353211, 118354897),\n",
    "                   'Exon 9': ('exon', 118354898, 118355029),\n",
    "                   'Intron 9-10': ('intron', 118355030, 118355576),\n",
    "                   'Exon 10': ('exon', 118355577, 118355690),\n",
    "                   'Intron 10-11': ('intron', 118355691, 118359328),\n",
    "                   'Exon 11': ('exon', 118359329, 118359475),\n",
    "                  'Intron 11-12':('intron', 118359476, 118360506),\n",
    "                  'Exon 12': ('exon', 118360507, 118360602),\n",
    "                  'Intron 12-13': ('intron', 118360603, 118360843),\n",
    "                  'Exon 13': ('exon', 118360844, 118360964),\n",
    "                  'Intron 13-14': ('intron', 118360965, 118361910),\n",
    "                  'Exon 14': ('exon', 118361911, 118362033),\n",
    "                  'Intron 14-15': ('intron', 118362034, 118362458),\n",
    "                  'Exon 15': ('exon', 118362459, 118362643),\n",
    "                  'Intron 15-16': ('intron', 118362644, 118363771),\n",
    "                  'Exon 16': ('exon', 118363772, 118363945),\n",
    "                  'Intron 16-17': ('intron', 118363946, 118365002),\n",
    "                  'Exon 17': ('exon', 118365003, 118365113),\n",
    "                  'Intron 17-18': ('intron', 118365114, 118365408),\n",
    "                  'Exon 18': ('exon', 118365409, 118365482),\n",
    "                  'Intron 18-19': ('intron', 118365483, 118366414),\n",
    "                  'Exon 19': ('exon', 118366415, 118366608),\n",
    "                  'Intron 19-20': ('intron', 118366609, 118366975),\n",
    "                  'Exon 20': ('exon', 118366976, 118367082),\n",
    "                  'Intron 20-21': ('intron', 118367083, 118368650),\n",
    "                  'Exon 21': ('exon', 118368651, 118368788),\n",
    "                  'Intron 21-22': ('intron', 118368789, 118369084),\n",
    "                  'Exon 22': ('exon', 118369085, 118369243),\n",
    "                  'Intron 22-23': ('intron', 118369244, 118370017),\n",
    "                  'Exon 23': ('exon', 118370018, 118370135),\n",
    "                  'Intron 23-24': ('intron', 118370136, 118370549),\n",
    "                  'Exon 24': ('exon', 118370550, 118370628),\n",
    "                  'Intron 24-25': ('intron', 118370629, 118371701),\n",
    "                  'Exon 25': ('exon', 118371702, 118371862),\n",
    "                  'Intron 25-26': ('intron', 118371863, 118372386),\n",
    "                  'Exon 26': ('exon', 118372387, 118372572),\n",
    "                  'Intron 26-27': ('intron', 118372573, 118373112),\n",
    "                  'Exon 27': ('exon', 118373113, 118377361),\n",
    "                  'Intron 27-28': ('intron', 118377362, 118378243),\n",
    "                  'Exon 28': ('exon', 118378244, 118378324),\n",
    "                  'Intron 28-29': ('intron', 118378325, 118379850),\n",
    "                  'Exon 29': ('exon', 118379851, 118379915),\n",
    "                  'Intron 29-30': ('intron', 118379916, 118380662),\n",
    "                  'Exon 30': ('exon', 118380663, 118380833),\n",
    "                  'Intron 30-31': ('intron', 118380834, 118382665),\n",
    "                  'Exon 31': ('exon', 118382666, 118382740),\n",
    "                  'Intron 31-32': ('intron', 118382741, 118390332),\n",
    "                  'Exon 32': ('exon', 118390333, 118390507),\n",
    "                  'Intron 32-33': ('intron', 118390508, 118390671),\n",
    "                  'Exon 33': ('exon', 118390672, 118390779),\n",
    "                  'Intron 33-34': ('intron', 118390780, 118391516),\n",
    "                  'Exon 34': ('exon', 118391517, 118391600),\n",
    "                  'Intron 34-35': ('intron', 118391601, 118392002),\n",
    "                  'Exon 35': ('exon', 118392003, 118392132),\n",
    "                  'Intron 35-36': ('intron', 118392133, 118392611),\n",
    "                  'Exon 36': ('exon', 118392612, 118397539)}\n",
    "\n",
    "color = 'yellow'\n",
    "\n",
    "KMT2A_panel_positions = region_panel_positions_list(KMT2A_coordinates, panel_bed, KMT2A_chromosome, KMT2A_start, KMT2A_stop)\n",
    "KMT2A_intron_exon_positions = region_ideogram(KMT2A_coordinates, color)\n",
    "read_depths_plot('KMT2A', KMT2A_chromosome, KMT2A_start, KMT2A_stop, KMT2A_coordinates, panel_coverage, '+', color)"
   ]
  }
 ],
 "metadata": {
  "kernelspec": {
   "display_name": "Python 3 (ipykernel)",
   "language": "python",
   "name": "python3"
  },
  "language_info": {
   "codemirror_mode": {
    "name": "ipython",
    "version": 3
   },
   "file_extension": ".py",
   "mimetype": "text/x-python",
   "name": "python",
   "nbconvert_exporter": "python",
   "pygments_lexer": "ipython3",
   "version": "3.7.4"
  },
  "toc": {
   "base_numbering": 1,
   "nav_menu": {},
   "number_sections": true,
   "sideBar": true,
   "skip_h1_title": false,
   "title_cell": "Table of Contents",
   "title_sidebar": "Contents",
   "toc_cell": true,
   "toc_position": {},
   "toc_section_display": true,
   "toc_window_display": true
  }
 },
 "nbformat": 4,
 "nbformat_minor": 4
}
